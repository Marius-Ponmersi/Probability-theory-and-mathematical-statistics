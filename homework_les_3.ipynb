{
 "cells": [
  {
   "cell_type": "markdown",
   "id": "7014ff9c",
   "metadata": {},
   "source": [
    "## Основы математической статистики. Количественные характеристики популяции. Графическое представление данных"
   ]
  },
  {
   "cell_type": "markdown",
   "id": "06f7bea3",
   "metadata": {},
   "source": [
    "### Задача 1\n"
   ]
  },
  {
   "cell_type": "markdown",
   "id": "00c23aaf",
   "metadata": {},
   "source": [
    "Даны значения зарплат из выборки выпускников:\n",
    "100, 80, 75, 77, 89, 33, 45, 25, 65, 17, 30, 230, 24, 57, 55, 70,\n",
    "75, 65, 84, 90, 150\n",
    "Используя только встроенные питоновские функции и структуры\n",
    "данных (т.е. без библиотек numpy, pandas и др.), посчитайте\n",
    "(несмещённое) среднее квадратичное отклонение для данной\n",
    "выборки."
   ]
  },
  {
   "cell_type": "code",
   "execution_count": 1,
   "id": "7f7fd633",
   "metadata": {},
   "outputs": [],
   "source": [
    "salaries = [100, 80, 75, 77, 89, 33, 45, 25, 65, 17, 30, 230, 24, 57, 55, 70, 75, 65, 84, 90, 150]"
   ]
  },
  {
   "cell_type": "code",
   "execution_count": 2,
   "id": "0b8d44bd",
   "metadata": {},
   "outputs": [
    {
     "data": {
      "text/plain": [
       "73.14285714285714"
      ]
     },
     "execution_count": 2,
     "metadata": {},
     "output_type": "execute_result"
    }
   ],
   "source": [
    "avg_salary = sum(salaries) / len(salaries)\n",
    "avg_salary"
   ]
  },
  {
   "cell_type": "code",
   "execution_count": 3,
   "id": "48abc277",
   "metadata": {},
   "outputs": [
    {
     "data": {
      "text/plain": [
       "2241.8285714285716"
      ]
     },
     "execution_count": 3,
     "metadata": {},
     "output_type": "execute_result"
    }
   ],
   "source": [
    "D = sum([(salary - avg_salary) ** 2  for salary in salaries]) / (len(salaries) - 1)\n",
    "D"
   ]
  },
  {
   "cell_type": "code",
   "execution_count": 4,
   "id": "8ec737ca",
   "metadata": {},
   "outputs": [
    {
     "data": {
      "text/plain": [
       "47.34795213553139"
      ]
     },
     "execution_count": 4,
     "metadata": {},
     "output_type": "execute_result"
    }
   ],
   "source": [
    "std = D ** (1/2) # среднее квадратичное отклонение\n",
    "std "
   ]
  },
  {
   "cell_type": "markdown",
   "id": "51471d14",
   "metadata": {},
   "source": [
    "### Задача 2"
   ]
  },
  {
   "cell_type": "markdown",
   "id": "e4d9a8a3",
   "metadata": {},
   "source": [
    "Найдите число выбросов в выборке из задачи 1. Для определения\n",
    "выбросов используйте методику как при построении “усов” в boxplot,\n",
    "однако, как и в задаче 1, пользоваться можно только встроенными\n",
    "функциями и структурами данных."
   ]
  },
  {
   "cell_type": "code",
   "execution_count": 5,
   "id": "ca395932",
   "metadata": {},
   "outputs": [
    {
     "data": {
      "text/plain": [
       "1"
      ]
     },
     "execution_count": 5,
     "metadata": {},
     "output_type": "execute_result"
    }
   ],
   "source": [
    "len(salaries) % 4"
   ]
  },
  {
   "cell_type": "code",
   "execution_count": 6,
   "id": "6c0c9b4b",
   "metadata": {},
   "outputs": [
    {
     "data": {
      "text/plain": [
       "45"
      ]
     },
     "execution_count": 6,
     "metadata": {},
     "output_type": "execute_result"
    }
   ],
   "source": [
    "q25 = sorted(salaries)[len(salaries) // 4]\n",
    "q25"
   ]
  },
  {
   "cell_type": "code",
   "execution_count": 7,
   "id": "f2a215b4",
   "metadata": {},
   "outputs": [
    {
     "data": {
      "text/plain": [
       "84"
      ]
     },
     "execution_count": 7,
     "metadata": {},
     "output_type": "execute_result"
    }
   ],
   "source": [
    "q75 = sorted(salaries)[len(salaries) // 4 * 3 ]\n",
    "q75"
   ]
  },
  {
   "cell_type": "code",
   "execution_count": 8,
   "id": "130be98f",
   "metadata": {},
   "outputs": [
    {
     "data": {
      "text/plain": [
       "39"
      ]
     },
     "execution_count": 8,
     "metadata": {},
     "output_type": "execute_result"
    }
   ],
   "source": [
    "iqr = q75 - q25\n",
    "iqr"
   ]
  },
  {
   "cell_type": "code",
   "execution_count": 9,
   "id": "6f5496be",
   "metadata": {},
   "outputs": [
    {
     "data": {
      "text/plain": [
       "[230, 150]"
      ]
     },
     "execution_count": 9,
     "metadata": {},
     "output_type": "execute_result"
    }
   ],
   "source": [
    "outliers = [salary for salary in salaries if salary < (q25 - 1.5 * iqr) or salary > (q75 + 1.5 * iqr)]\n",
    "outliers"
   ]
  },
  {
   "cell_type": "code",
   "execution_count": 10,
   "id": "1f39f513",
   "metadata": {},
   "outputs": [
    {
     "data": {
      "text/plain": [
       "2"
      ]
     },
     "execution_count": 10,
     "metadata": {},
     "output_type": "execute_result"
    }
   ],
   "source": [
    "len(outliers) # число выбросов"
   ]
  },
  {
   "cell_type": "markdown",
   "id": "fd1b45d8",
   "metadata": {},
   "source": [
    "### Задача 3"
   ]
  },
  {
   "cell_type": "markdown",
   "id": "fef0e8f6",
   "metadata": {},
   "source": [
    "В университет на факультет A поступило 100 человек, на факультет B - 90 человек и на факультет C - 45 человек. Вероятность того, что студент с факультета A сдаст первую сессию, равна 0.6. Для студента с факультета B эта вероятность равна 0.7, а для студента с факультета C - 0.8. Случайным образом выбирается студент, сдавший первую сессию. Какое событие наиболее вероятно:"
   ]
  },
  {
   "cell_type": "markdown",
   "id": "14e3afb8",
   "metadata": {},
   "source": [
    "1. студент учится на факультете A,\n",
    "2. студент учится на факультете B,\n",
    "3. студент учится на факультете C?"
   ]
  },
  {
   "cell_type": "markdown",
   "id": "c3f51137",
   "metadata": {},
   "source": [
    "Пусть Н -полная группа событий. H = a + b + c. "
   ]
  },
  {
   "cell_type": "markdown",
   "id": "ea962212",
   "metadata": {},
   "source": [
    "D - студент сдал экзамен."
   ]
  },
  {
   "cell_type": "markdown",
   "id": "ee8b5784",
   "metadata": {},
   "source": [
    "Общее число студентов: 100 + 90 + 45 = 235"
   ]
  },
  {
   "cell_type": "code",
   "execution_count": 11,
   "id": "c2b34522",
   "metadata": {},
   "outputs": [
    {
     "data": {
      "text/plain": [
       "0.425531914893617"
      ]
     },
     "execution_count": 11,
     "metadata": {},
     "output_type": "execute_result"
    }
   ],
   "source": [
    "Pa = 100/235 # вероятность, что студент учится на факультете A\n",
    "Pa"
   ]
  },
  {
   "cell_type": "code",
   "execution_count": 12,
   "id": "0fff68dc",
   "metadata": {},
   "outputs": [
    {
     "data": {
      "text/plain": [
       "0.3829787234042553"
      ]
     },
     "execution_count": 12,
     "metadata": {},
     "output_type": "execute_result"
    }
   ],
   "source": [
    "Pb = 90/235 # вероятность, что студент учится на факультете B\n",
    "Pb"
   ]
  },
  {
   "cell_type": "code",
   "execution_count": 13,
   "id": "65356860",
   "metadata": {},
   "outputs": [
    {
     "data": {
      "text/plain": [
       "0.19148936170212766"
      ]
     },
     "execution_count": 13,
     "metadata": {},
     "output_type": "execute_result"
    }
   ],
   "source": [
    "Pc = 45/235 # вероятность, что студент учится на факультете C\n",
    "Pc"
   ]
  },
  {
   "cell_type": "code",
   "execution_count": 14,
   "id": "7cbf48a3",
   "metadata": {},
   "outputs": [],
   "source": [
    "Pda, Pdb, Pdc = 0.6, 0.7, 0.8 # вероятности сдать сессию для студентов факультетов"
   ]
  },
  {
   "cell_type": "code",
   "execution_count": 19,
   "id": "5a17dadc",
   "metadata": {},
   "outputs": [
    {
     "data": {
      "text/plain": [
       "0.676595744680851"
      ]
     },
     "execution_count": 19,
     "metadata": {},
     "output_type": "execute_result"
    }
   ],
   "source": [
    "Pd = Pda*Pa + Pdb*Pb + Pdc*Pc # вероятность, что сессия будет сдана\n",
    "Pd"
   ]
  },
  {
   "cell_type": "markdown",
   "id": "77ad8308",
   "metadata": {},
   "source": [
    "P(H/D) = P(D/H) * P(H) / P(D)"
   ]
  },
  {
   "cell_type": "code",
   "execution_count": 16,
   "id": "7e7a7f7d",
   "metadata": {},
   "outputs": [
    {
     "data": {
      "text/plain": [
       "0.3773584905660377"
      ]
     },
     "execution_count": 16,
     "metadata": {},
     "output_type": "execute_result"
    }
   ],
   "source": [
    "Pad = Pda * Pa / Pd   # вероятность, что студент сдал экзамен и учится на факультете A\n",
    "Pad"
   ]
  },
  {
   "cell_type": "code",
   "execution_count": 17,
   "id": "83a2486e",
   "metadata": {},
   "outputs": [
    {
     "data": {
      "text/plain": [
       "0.39622641509433965"
      ]
     },
     "execution_count": 17,
     "metadata": {},
     "output_type": "execute_result"
    }
   ],
   "source": [
    "Pbd = Pdb * Pb / Pd    # вероятность, что студент сдал экзамен и чится на факультете B\n",
    "Pbd"
   ]
  },
  {
   "cell_type": "code",
   "execution_count": 18,
   "id": "f5ced808",
   "metadata": {},
   "outputs": [
    {
     "data": {
      "text/plain": [
       "0.22641509433962265"
      ]
     },
     "execution_count": 18,
     "metadata": {},
     "output_type": "execute_result"
    }
   ],
   "source": [
    "Pcd = Pdc * Pc / Pd   # вероятность, что студент сдал экзамен и учится на факультете C\n",
    "Pcd"
   ]
  },
  {
   "cell_type": "markdown",
   "id": "c2d600a9",
   "metadata": {},
   "source": [
    "Ответ: 2 - наиболее вероятно, что сдавший первую сессию студент учится на факультете B"
   ]
  },
  {
   "cell_type": "code",
   "execution_count": null,
   "id": "71c61348",
   "metadata": {},
   "outputs": [],
   "source": []
  }
 ],
 "metadata": {
  "kernelspec": {
   "display_name": "Python 3",
   "language": "python",
   "name": "python3"
  },
  "language_info": {
   "codemirror_mode": {
    "name": "ipython",
    "version": 3
   },
   "file_extension": ".py",
   "mimetype": "text/x-python",
   "name": "python",
   "nbconvert_exporter": "python",
   "pygments_lexer": "ipython3",
   "version": "3.8.8"
  }
 },
 "nbformat": 4,
 "nbformat_minor": 5
}
