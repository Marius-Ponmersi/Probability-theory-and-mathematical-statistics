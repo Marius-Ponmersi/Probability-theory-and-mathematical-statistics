{
 "cells": [
  {
   "cell_type": "markdown",
   "id": "571f6bfc",
   "metadata": {},
   "source": [
    "## Непрерывные случайные величины. Функция распределения и функция плотности. Нормальное распределение. Центральная предельная теорема"
   ]
  },
  {
   "cell_type": "markdown",
   "id": "ff695ff1",
   "metadata": {},
   "source": [
    "__1.__ Случайная непрерывная величина A имеет равномерное распределение на\n",
    "промежутке (200, 800].\n",
    "Найдите ее среднее значение и дисперсию."
   ]
  },
  {
   "cell_type": "code",
   "execution_count": 2,
   "id": "fc1389e7",
   "metadata": {},
   "outputs": [],
   "source": [
    "import numpy as np"
   ]
  },
  {
   "cell_type": "code",
   "execution_count": 10,
   "id": "d78f4993",
   "metadata": {},
   "outputs": [],
   "source": [
    "A = np.linspace(200, 800, 1000)"
   ]
  },
  {
   "cell_type": "code",
   "execution_count": 19,
   "id": "8749187a",
   "metadata": {},
   "outputs": [
    {
     "data": {
      "text/plain": [
       "500.0"
      ]
     },
     "execution_count": 19,
     "metadata": {},
     "output_type": "execute_result"
    }
   ],
   "source": [
    "M = A.mean()\n",
    "M"
   ]
  },
  {
   "cell_type": "code",
   "execution_count": 20,
   "id": "a64f06d6",
   "metadata": {},
   "outputs": [
    {
     "data": {
      "text/plain": [
       "30090.15021027033"
      ]
     },
     "execution_count": 20,
     "metadata": {},
     "output_type": "execute_result"
    }
   ],
   "source": [
    "D = A.var(ddof=1)\n",
    "D"
   ]
  },
  {
   "cell_type": "markdown",
   "id": "3e2fc0b4",
   "metadata": {},
   "source": [
    "__2.__ О случайной непрерывной равномерно распределенной величине B известно, что ее\n",
    "дисперсия равна 0.2.\n",
    "Можно ли найти правую границу величины B и ее среднее значение зная, что левая\n",
    "граница равна 0.5?\n",
    "Если да, найдите ее."
   ]
  },
  {
   "cell_type": "code",
   "execution_count": 141,
   "id": "16fcb1ec",
   "metadata": {},
   "outputs": [],
   "source": [
    "D = 0.2"
   ]
  },
  {
   "cell_type": "code",
   "execution_count": 142,
   "id": "94f69917",
   "metadata": {},
   "outputs": [],
   "source": [
    "left = 0.5"
   ]
  },
  {
   "cell_type": "code",
   "execution_count": 143,
   "id": "427b6952",
   "metadata": {},
   "outputs": [
    {
     "data": {
      "text/plain": [
       "0.4472135954999579"
      ]
     },
     "execution_count": 143,
     "metadata": {},
     "output_type": "execute_result"
    }
   ],
   "source": [
    "std = D**(0.5)\n",
    "std"
   ]
  },
  {
   "cell_type": "code",
   "execution_count": 222,
   "id": "0c58fa18",
   "metadata": {},
   "outputs": [
    {
     "name": "stdout",
     "output_type": "stream",
     "text": [
      "Ответ: right=2.0500000000000007\n"
     ]
    }
   ],
   "source": [
    "right = 0.6\n",
    "while True:\n",
    "    A = np.arange(left, right, 0.05)\n",
    "    right += 0.05\n",
    "    if A.var(ddof=1) >= 0.2:\n",
    "        print(f'Ответ: right={right}')\n",
    "        break"
   ]
  },
  {
   "cell_type": "code",
   "execution_count": 223,
   "id": "a9db2160",
   "metadata": {},
   "outputs": [
    {
     "data": {
      "text/plain": [
       "1.2750000000000004"
      ]
     },
     "execution_count": 223,
     "metadata": {},
     "output_type": "execute_result"
    }
   ],
   "source": [
    "M = (left + right) / 2\n",
    "M"
   ]
  },
  {
   "cell_type": "code",
   "execution_count": 224,
   "id": "2215ec26",
   "metadata": {},
   "outputs": [],
   "source": [
    "# Проверка:"
   ]
  },
  {
   "cell_type": "code",
   "execution_count": 226,
   "id": "265372f2",
   "metadata": {},
   "outputs": [],
   "source": [
    "A = np.linspace(left, right, 1000)"
   ]
  },
  {
   "cell_type": "code",
   "execution_count": 227,
   "id": "146c12fe",
   "metadata": {},
   "outputs": [
    {
     "data": {
      "text/plain": [
       "1.2750000000000004"
      ]
     },
     "execution_count": 227,
     "metadata": {},
     "output_type": "execute_result"
    }
   ],
   "source": [
    "M = A.mean()\n",
    "M"
   ]
  },
  {
   "cell_type": "code",
   "execution_count": 228,
   "id": "d0991125",
   "metadata": {},
   "outputs": [
    {
     "data": {
      "text/plain": [
       "0.2008099607782626"
      ]
     },
     "execution_count": 228,
     "metadata": {},
     "output_type": "execute_result"
    }
   ],
   "source": [
    "D = A.var(ddof=1)\n",
    "D"
   ]
  },
  {
   "cell_type": "markdown",
   "id": "b37b4212",
   "metadata": {},
   "source": [
    "__3.__ Непрерывная случайная величина X распределена нормально и задана плотностью\n",
    "распределения\n",
    "f(x) = (1 / (4 * sqrt(2*pi))) * (exp(-(x+2)**2) / 32).\n",
    "Найдите:\n",
    "а). M(X)\n",
    "б). D(X)\n",
    "в). std(X) (среднее квадратичное отклонение)"
   ]
  },
  {
   "cell_type": "markdown",
   "id": "b3d7ff9a",
   "metadata": {},
   "source": [
    "а) M(X) = -2"
   ]
  },
  {
   "cell_type": "markdown",
   "id": "243e5c80",
   "metadata": {},
   "source": [
    "б) D(X) = 1"
   ]
  },
  {
   "cell_type": "markdown",
   "id": "396891c9",
   "metadata": {},
   "source": [
    "в) std(X) = 1"
   ]
  },
  {
   "cell_type": "markdown",
   "id": "330acb2d",
   "metadata": {},
   "source": [
    "__4.__ Рост взрослого населения города X имеет нормальное распределение.\n",
    "Причем, средний рост равен 174 см, а среднее квадратичное отклонение равно 8 см.\n",
    "Какова вероятность того, что случайным образом выбранный взрослый человек имеет\n",
    "рост:\n",
    "* а). больше 182 см\n",
    "* б). больше 190 см\n",
    "* в). от 166 см до 190 см\n",
    "* г). от 166 см до 182 см\n",
    "* д). от 158 см до 190 см\n",
    "* е). не выше 150 см или не ниже 190 см\n",
    "* ё). не выше 150 см или не ниже 198 см\n",
    "* ж). ниже 166 см."
   ]
  },
  {
   "cell_type": "code",
   "execution_count": 50,
   "id": "779e5a41",
   "metadata": {},
   "outputs": [],
   "source": [
    "loc = 174"
   ]
  },
  {
   "cell_type": "code",
   "execution_count": 51,
   "id": "79d52a51",
   "metadata": {},
   "outputs": [],
   "source": [
    "scale = 8"
   ]
  },
  {
   "cell_type": "code",
   "execution_count": 65,
   "id": "165bb841",
   "metadata": {},
   "outputs": [],
   "source": [
    "from scipy import stats"
   ]
  },
  {
   "cell_type": "code",
   "execution_count": 66,
   "id": "a883c8b0",
   "metadata": {},
   "outputs": [],
   "source": [
    "norm = stats.norm(loc=loc, scale=scale)"
   ]
  },
  {
   "cell_type": "code",
   "execution_count": 68,
   "id": "302e1018",
   "metadata": {},
   "outputs": [
    {
     "data": {
      "text/plain": [
       "0.8413447460685429"
      ]
     },
     "execution_count": 68,
     "metadata": {},
     "output_type": "execute_result"
    }
   ],
   "source": [
    "norm.cdf(182)"
   ]
  },
  {
   "cell_type": "markdown",
   "id": "86ee7a6b",
   "metadata": {},
   "source": [
    "а) Р(x>182) = 1 - 0.841 = 0.159"
   ]
  },
  {
   "cell_type": "code",
   "execution_count": 73,
   "id": "48eaea38",
   "metadata": {},
   "outputs": [
    {
     "data": {
      "text/plain": [
       "0.9772498680518208"
      ]
     },
     "execution_count": 73,
     "metadata": {},
     "output_type": "execute_result"
    }
   ],
   "source": [
    "norm.cdf(190)"
   ]
  },
  {
   "cell_type": "markdown",
   "id": "e801528b",
   "metadata": {},
   "source": [
    "б) Р(x>190) = 1 - 0.977 = 0.023"
   ]
  },
  {
   "cell_type": "code",
   "execution_count": 74,
   "id": "c8c461ab",
   "metadata": {},
   "outputs": [
    {
     "data": {
      "text/plain": [
       "0.8185946141203637"
      ]
     },
     "execution_count": 74,
     "metadata": {},
     "output_type": "execute_result"
    }
   ],
   "source": [
    "norm.cdf(190) - norm.cdf(166)"
   ]
  },
  {
   "cell_type": "markdown",
   "id": "b0a1e0a5",
   "metadata": {},
   "source": [
    "в) P(166<x<190) = 0.818"
   ]
  },
  {
   "cell_type": "code",
   "execution_count": 76,
   "id": "2a1716da",
   "metadata": {},
   "outputs": [
    {
     "data": {
      "text/plain": [
       "0.6826894921370859"
      ]
     },
     "execution_count": 76,
     "metadata": {},
     "output_type": "execute_result"
    }
   ],
   "source": [
    "norm.cdf(182) - norm.cdf(166)"
   ]
  },
  {
   "cell_type": "markdown",
   "id": "8ec166af",
   "metadata": {},
   "source": [
    "г) P(166<x<182) = 0.682"
   ]
  },
  {
   "cell_type": "code",
   "execution_count": 78,
   "id": "1ed7cf19",
   "metadata": {},
   "outputs": [
    {
     "data": {
      "text/plain": [
       "0.9544997361036416"
      ]
     },
     "execution_count": 78,
     "metadata": {},
     "output_type": "execute_result"
    }
   ],
   "source": [
    "norm.cdf(190) - norm.cdf(158)"
   ]
  },
  {
   "cell_type": "markdown",
   "id": "d14259f1",
   "metadata": {},
   "source": [
    "д) P(158<x<190) = 0.954"
   ]
  },
  {
   "cell_type": "code",
   "execution_count": 80,
   "id": "8ecb9991",
   "metadata": {},
   "outputs": [
    {
     "data": {
      "text/plain": [
       "0.0013498980316300933"
      ]
     },
     "execution_count": 80,
     "metadata": {},
     "output_type": "execute_result"
    }
   ],
   "source": [
    "norm.cdf(150)"
   ]
  },
  {
   "cell_type": "markdown",
   "id": "a17215ab",
   "metadata": {},
   "source": [
    "е) P(x<150 & x>190) = 0.0013 + 0.023 = 0.0243"
   ]
  },
  {
   "cell_type": "code",
   "execution_count": 82,
   "id": "0af6fa87",
   "metadata": {},
   "outputs": [
    {
     "data": {
      "text/plain": [
       "0.9986501019683699"
      ]
     },
     "execution_count": 82,
     "metadata": {},
     "output_type": "execute_result"
    }
   ],
   "source": [
    "norm.cdf(198)"
   ]
  },
  {
   "cell_type": "markdown",
   "id": "0d1e3f30",
   "metadata": {},
   "source": [
    "ё) P(x<150 & x>198) = 0.0013 + (1 - 0.9986) = 0,0027"
   ]
  },
  {
   "cell_type": "code",
   "execution_count": 84,
   "id": "1dcaf092",
   "metadata": {},
   "outputs": [
    {
     "data": {
      "text/plain": [
       "0.15865525393145707"
      ]
     },
     "execution_count": 84,
     "metadata": {},
     "output_type": "execute_result"
    }
   ],
   "source": [
    "norm.cdf(166)"
   ]
  },
  {
   "cell_type": "markdown",
   "id": "63fa3ff4",
   "metadata": {},
   "source": [
    "ж) P(x<166) = 0.158"
   ]
  },
  {
   "cell_type": "markdown",
   "id": "7feacc60",
   "metadata": {},
   "source": [
    "__5.__ На сколько сигм (средних квадратичных отклонений) отклоняется рост человека,\n",
    "равный 190 см, от\n",
    "математического ожидания роста в популяции, в которой M(X) = 178 см и D(X) = 25\n",
    "кв.см?"
   ]
  },
  {
   "cell_type": "code",
   "execution_count": 39,
   "id": "48b2aded",
   "metadata": {},
   "outputs": [],
   "source": [
    "M = 178"
   ]
  },
  {
   "cell_type": "code",
   "execution_count": 40,
   "id": "fd7d0fdb",
   "metadata": {},
   "outputs": [],
   "source": [
    "D = 25"
   ]
  },
  {
   "cell_type": "code",
   "execution_count": 44,
   "id": "e10f008a",
   "metadata": {},
   "outputs": [
    {
     "data": {
      "text/plain": [
       "5.0"
      ]
     },
     "execution_count": 44,
     "metadata": {},
     "output_type": "execute_result"
    }
   ],
   "source": [
    "std = D**(0.5)\n",
    "std   # сигма(среднее стандартное отклонение)"
   ]
  },
  {
   "cell_type": "code",
   "execution_count": 45,
   "id": "98c7e0b4",
   "metadata": {},
   "outputs": [
    {
     "data": {
      "text/plain": [
       "2.4"
      ]
     },
     "execution_count": 45,
     "metadata": {},
     "output_type": "execute_result"
    }
   ],
   "source": [
    "n = (190 - M) / std\n",
    "n"
   ]
  },
  {
   "cell_type": "markdown",
   "id": "4fe549c8",
   "metadata": {},
   "source": [
    "Ответ: на 2.4 сигм"
   ]
  },
  {
   "cell_type": "code",
   "execution_count": null,
   "id": "b75ca46a",
   "metadata": {},
   "outputs": [],
   "source": []
  }
 ],
 "metadata": {
  "kernelspec": {
   "display_name": "Python 3 (ipykernel)",
   "language": "python",
   "name": "python3"
  },
  "language_info": {
   "codemirror_mode": {
    "name": "ipython",
    "version": 3
   },
   "file_extension": ".py",
   "mimetype": "text/x-python",
   "name": "python",
   "nbconvert_exporter": "python",
   "pygments_lexer": "ipython3",
   "version": "3.9.7"
  }
 },
 "nbformat": 4,
 "nbformat_minor": 5
}
