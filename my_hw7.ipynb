{
 "cells": [
  {
   "cell_type": "markdown",
   "id": "9f7883fa",
   "metadata": {},
   "source": [
    "## Урок 7"
   ]
  },
  {
   "cell_type": "markdown",
   "id": "d5fadd9e",
   "metadata": {},
   "source": [
    "## Линейная регрессия. Двухвыборочный t-тест. A/B-тестирование"
   ]
  },
  {
   "cell_type": "markdown",
   "id": "c852b9ba",
   "metadata": {},
   "source": [
    "### Домашнее задание"
   ]
  },
  {
   "cell_type": "markdown",
   "id": "e02f697b",
   "metadata": {},
   "source": [
    "В поле ответа впишите одно число. Нецелые числа следует округлить до 8 знаков после запятой."
   ]
  },
  {
   "cell_type": "markdown",
   "id": "8585b3ab",
   "metadata": {},
   "source": [
    "__Задача 1__"
   ]
  },
  {
   "cell_type": "markdown",
   "id": "fb1dd95f",
   "metadata": {},
   "source": [
    "Дана матрица объект-признак\n",
    "```\n",
    "X = [[ 1.22401313,  2.30868478,  3.03636353,  2.69287214],\n",
    "     [-0.18757272,  1.30337355,  5.12093014,  3.46363202],\n",
    "     [-0.81094525,  1.82463398,  5.79686488,  1.86159445],\n",
    "     [ 0.75129018,  2.67392052,  3.65529809,  1.66746094],\n",
    "     [ 0.00972362,  1.97367255,  2.50594319,  1.69755173],\n",
    "     [-0.62972637,  0.77750764,  2.84124027,  4.54410559],\n",
    "     [ 2.29536229,  1.81206697,  1.95026215,  1.51874636],\n",
    "     [ 0.0920418 ,  2.26971361,  7.47708735,  2.61081203],\n",
    "     [ 2.39252799,  3.17563985,  3.61420599,  5.10773362],\n",
    "     [ 0.54983815,  2.87988651,  1.65752765,  1.59635987]]\n",
    "```\n",
    "и значения целевой переменной\n",
    "```\n",
    "y = [ 9.26193358,  9.700363  ,  8.67214805,  8.74796974,  6.18689108,\n",
    "      7.53312713,  7.57643777, 12.44965478, 14.29010746,  6.68361218]\n",
    "```\n",
    "\n",
    "Подберите два признака (из четырёх) так, чтобы уровень линейной зависимости целевой переменной от значений этих признаков был максимальным. Другими словами, модель линейной регрессии на этих признаках должна давать наилучший результат. В качестве ответа запишите значение коэффициента детерминации для модели на этих признаках."
   ]
  },
  {
   "cell_type": "code",
   "execution_count": 1,
   "id": "41cbfbc7",
   "metadata": {},
   "outputs": [],
   "source": [
    "import numpy as np\n",
    "import pandas as pd"
   ]
  },
  {
   "cell_type": "code",
   "execution_count": 2,
   "id": "0d5eadd2",
   "metadata": {},
   "outputs": [],
   "source": [
    "from sklearn.linear_model import LinearRegression\n",
    "from sklearn.metrics import r2_score\n",
    "from itertools import combinations"
   ]
  },
  {
   "cell_type": "code",
   "execution_count": 3,
   "id": "2e059fcf",
   "metadata": {},
   "outputs": [],
   "source": [
    "data = [\n",
    "    [ 1.22401313,  2.30868478,  3.03636353,  2.69287214],\n",
    "     [-0.18757272,  1.30337355,  5.12093014,  3.46363202],\n",
    "     [-0.81094525,  1.82463398,  5.79686488,  1.86159445],\n",
    "     [ 0.75129018,  2.67392052,  3.65529809,  1.66746094],\n",
    "     [ 0.00972362,  1.97367255,  2.50594319,  1.69755173],\n",
    "     [-0.62972637,  0.77750764,  2.84124027,  4.54410559],\n",
    "     [ 2.29536229,  1.81206697,  1.95026215,  1.51874636],\n",
    "     [ 0.0920418 ,  2.26971361,  7.47708735,  2.61081203],\n",
    "     [ 2.39252799,  3.17563985,  3.61420599,  5.10773362],\n",
    "     [ 0.54983815,  2.87988651,  1.65752765,  1.59635987]]"
   ]
  },
  {
   "cell_type": "code",
   "execution_count": 4,
   "id": "c8309454",
   "metadata": {},
   "outputs": [],
   "source": [
    "titles = ['1', '2', '3', '4']\n",
    "index = [_ for _ in range(len(data))]"
   ]
  },
  {
   "cell_type": "code",
   "execution_count": 5,
   "id": "f4b5a063",
   "metadata": {},
   "outputs": [],
   "source": [
    "y = [ 9.26193358,  9.700363  ,  8.67214805,  8.74796974,  6.18689108, \n",
    "              7.53312713,  7.57643777, 12.44965478, 14.29010746,  6.68361218]"
   ]
  },
  {
   "cell_type": "code",
   "execution_count": 6,
   "id": "66e99b22",
   "metadata": {},
   "outputs": [
    {
     "data": {
      "text/html": [
       "<div>\n",
       "<style scoped>\n",
       "    .dataframe tbody tr th:only-of-type {\n",
       "        vertical-align: middle;\n",
       "    }\n",
       "\n",
       "    .dataframe tbody tr th {\n",
       "        vertical-align: top;\n",
       "    }\n",
       "\n",
       "    .dataframe thead th {\n",
       "        text-align: right;\n",
       "    }\n",
       "</style>\n",
       "<table border=\"1\" class=\"dataframe\">\n",
       "  <thead>\n",
       "    <tr style=\"text-align: right;\">\n",
       "      <th></th>\n",
       "      <th>1</th>\n",
       "      <th>2</th>\n",
       "      <th>3</th>\n",
       "      <th>4</th>\n",
       "      <th>y</th>\n",
       "    </tr>\n",
       "  </thead>\n",
       "  <tbody>\n",
       "    <tr>\n",
       "      <th>0</th>\n",
       "      <td>1.224013</td>\n",
       "      <td>2.308685</td>\n",
       "      <td>3.036364</td>\n",
       "      <td>2.692872</td>\n",
       "      <td>9.261934</td>\n",
       "    </tr>\n",
       "    <tr>\n",
       "      <th>1</th>\n",
       "      <td>-0.187573</td>\n",
       "      <td>1.303374</td>\n",
       "      <td>5.120930</td>\n",
       "      <td>3.463632</td>\n",
       "      <td>9.700363</td>\n",
       "    </tr>\n",
       "    <tr>\n",
       "      <th>2</th>\n",
       "      <td>-0.810945</td>\n",
       "      <td>1.824634</td>\n",
       "      <td>5.796865</td>\n",
       "      <td>1.861594</td>\n",
       "      <td>8.672148</td>\n",
       "    </tr>\n",
       "    <tr>\n",
       "      <th>3</th>\n",
       "      <td>0.751290</td>\n",
       "      <td>2.673921</td>\n",
       "      <td>3.655298</td>\n",
       "      <td>1.667461</td>\n",
       "      <td>8.747970</td>\n",
       "    </tr>\n",
       "    <tr>\n",
       "      <th>4</th>\n",
       "      <td>0.009724</td>\n",
       "      <td>1.973673</td>\n",
       "      <td>2.505943</td>\n",
       "      <td>1.697552</td>\n",
       "      <td>6.186891</td>\n",
       "    </tr>\n",
       "    <tr>\n",
       "      <th>5</th>\n",
       "      <td>-0.629726</td>\n",
       "      <td>0.777508</td>\n",
       "      <td>2.841240</td>\n",
       "      <td>4.544106</td>\n",
       "      <td>7.533127</td>\n",
       "    </tr>\n",
       "    <tr>\n",
       "      <th>6</th>\n",
       "      <td>2.295362</td>\n",
       "      <td>1.812067</td>\n",
       "      <td>1.950262</td>\n",
       "      <td>1.518746</td>\n",
       "      <td>7.576438</td>\n",
       "    </tr>\n",
       "    <tr>\n",
       "      <th>7</th>\n",
       "      <td>0.092042</td>\n",
       "      <td>2.269714</td>\n",
       "      <td>7.477087</td>\n",
       "      <td>2.610812</td>\n",
       "      <td>12.449655</td>\n",
       "    </tr>\n",
       "    <tr>\n",
       "      <th>8</th>\n",
       "      <td>2.392528</td>\n",
       "      <td>3.175640</td>\n",
       "      <td>3.614206</td>\n",
       "      <td>5.107734</td>\n",
       "      <td>14.290107</td>\n",
       "    </tr>\n",
       "    <tr>\n",
       "      <th>9</th>\n",
       "      <td>0.549838</td>\n",
       "      <td>2.879887</td>\n",
       "      <td>1.657528</td>\n",
       "      <td>1.596360</td>\n",
       "      <td>6.683612</td>\n",
       "    </tr>\n",
       "  </tbody>\n",
       "</table>\n",
       "</div>"
      ],
      "text/plain": [
       "          1         2         3         4          y\n",
       "0  1.224013  2.308685  3.036364  2.692872   9.261934\n",
       "1 -0.187573  1.303374  5.120930  3.463632   9.700363\n",
       "2 -0.810945  1.824634  5.796865  1.861594   8.672148\n",
       "3  0.751290  2.673921  3.655298  1.667461   8.747970\n",
       "4  0.009724  1.973673  2.505943  1.697552   6.186891\n",
       "5 -0.629726  0.777508  2.841240  4.544106   7.533127\n",
       "6  2.295362  1.812067  1.950262  1.518746   7.576438\n",
       "7  0.092042  2.269714  7.477087  2.610812  12.449655\n",
       "8  2.392528  3.175640  3.614206  5.107734  14.290107\n",
       "9  0.549838  2.879887  1.657528  1.596360   6.683612"
      ]
     },
     "execution_count": 6,
     "metadata": {},
     "output_type": "execute_result"
    }
   ],
   "source": [
    "df = pd.DataFrame(data, index, titles)\n",
    "df['y'] = y\n",
    "df"
   ]
  },
  {
   "cell_type": "code",
   "execution_count": 7,
   "id": "8e366152",
   "metadata": {},
   "outputs": [],
   "source": [
    "y = df['y'].values"
   ]
  },
  {
   "cell_type": "code",
   "execution_count": 8,
   "id": "b24332de",
   "metadata": {},
   "outputs": [],
   "source": [
    "lr = LinearRegression(fit_intercept=True)"
   ]
  },
  {
   "cell_type": "code",
   "execution_count": 9,
   "id": "74ab5af0",
   "metadata": {},
   "outputs": [],
   "source": [
    "r2 = {}"
   ]
  },
  {
   "cell_type": "code",
   "execution_count": 10,
   "id": "7046195f",
   "metadata": {},
   "outputs": [],
   "source": [
    "def sum_of_squares(samples: np.ndarray) -> float:\n",
    "    \"\"\"Сумма квадратов отклонений.\n",
    "    \"\"\"\n",
    "    \n",
    "    return ((samples - samples.mean()) ** 2).sum()"
   ]
  },
  {
   "cell_type": "code",
   "execution_count": 11,
   "id": "c1f1945a",
   "metadata": {},
   "outputs": [],
   "source": [
    "for pair in combinations(titles, r=2):\n",
    "    X = df[list(pair)].values\n",
    "    lr.fit(X, y)\n",
    "    y_pred = lr.predict(X)\n",
    "    r2[pair] = r2_score(y, y_pred)\n",
    "    #e = y - y_pred\n",
    "    #R2 = 1 - sum_of_squares(e) / sum_of_squares(y)\n",
    "    #r2[pair] = R2"
   ]
  },
  {
   "cell_type": "code",
   "execution_count": 12,
   "id": "8eee3edf",
   "metadata": {},
   "outputs": [
    {
     "data": {
      "text/plain": [
       "{('1', '2'): 0.18113594742585204,\n",
       " ('1', '3'): 0.7634246238793151,\n",
       " ('1', '4'): 0.4532966783144078,\n",
       " ('2', '3'): 0.5479482734039012,\n",
       " ('2', '4'): 0.6062055761129932,\n",
       " ('3', '4'): 0.6224419876505323}"
      ]
     },
     "execution_count": 12,
     "metadata": {},
     "output_type": "execute_result"
    }
   ],
   "source": [
    "r2"
   ]
  },
  {
   "cell_type": "code",
   "execution_count": 13,
   "id": "33a6edf0",
   "metadata": {},
   "outputs": [
    {
     "data": {
      "text/plain": [
       "{('1', '3'): 0.7634246238793151}"
      ]
     },
     "execution_count": 13,
     "metadata": {},
     "output_type": "execute_result"
    }
   ],
   "source": [
    "max_r2 = {k:v for k, v in r2.items() if v == max(r2.values())}\n",
    "max_r2"
   ]
  },
  {
   "cell_type": "code",
   "execution_count": 14,
   "id": "8661f879",
   "metadata": {},
   "outputs": [
    {
     "data": {
      "text/plain": [
       "0.76342462"
      ]
     },
     "execution_count": 14,
     "metadata": {},
     "output_type": "execute_result"
    }
   ],
   "source": [
    "round(max(r2.values()), 8)"
   ]
  },
  {
   "cell_type": "code",
   "execution_count": 15,
   "id": "b8a6172f",
   "metadata": {},
   "outputs": [],
   "source": [
    "r2_manual = {}"
   ]
  },
  {
   "cell_type": "code",
   "execution_count": 16,
   "id": "027c1db7",
   "metadata": {},
   "outputs": [],
   "source": [
    "for pair in combinations(titles, r=2):\n",
    "    \n",
    "    x = df[list(pair)].values\n",
    "    ones = np.ones((x.shape[0], 1))\n",
    "    x = np.hstack((ones, x))\n",
    "    \n",
    "    XTX = x.T.dot(x)\n",
    "    XTX_inv = np.linalg.inv(XTX)\n",
    "\n",
    "    b = XTX_inv.dot(x.T).dot(y)\n",
    "    z = x.dot(b)\n",
    "    e = y - z\n",
    "    \n",
    "    R2 = 1 - sum_of_squares(e) / sum_of_squares(y)\n",
    "    r2_manual[pair] = R2"
   ]
  },
  {
   "cell_type": "code",
   "execution_count": 17,
   "id": "56fd794f",
   "metadata": {},
   "outputs": [
    {
     "data": {
      "text/plain": [
       "{('1', '2'): 0.18113594742585204,\n",
       " ('1', '3'): 0.763424623879315,\n",
       " ('1', '4'): 0.4532966783144077,\n",
       " ('2', '3'): 0.547948273403901,\n",
       " ('2', '4'): 0.6062055761129934,\n",
       " ('3', '4'): 0.6224419876505323}"
      ]
     },
     "execution_count": 17,
     "metadata": {},
     "output_type": "execute_result"
    }
   ],
   "source": [
    "r2_manual"
   ]
  },
  {
   "cell_type": "code",
   "execution_count": 18,
   "id": "f63717dc",
   "metadata": {},
   "outputs": [
    {
     "data": {
      "text/plain": [
       "{('1', '3'): 0.763424623879315}"
      ]
     },
     "execution_count": 18,
     "metadata": {},
     "output_type": "execute_result"
    }
   ],
   "source": [
    "max_r2 = {k:v for k, v in r2_manual.items() if v == max(r2_manual.values())}\n",
    "max_r2"
   ]
  },
  {
   "cell_type": "code",
   "execution_count": 19,
   "id": "7949b66e",
   "metadata": {},
   "outputs": [
    {
     "data": {
      "text/plain": [
       "0.76342462"
      ]
     },
     "execution_count": 19,
     "metadata": {},
     "output_type": "execute_result"
    }
   ],
   "source": [
    "R2 = max(max_r2.values())\n",
    "round(R2, 8)"
   ]
  },
  {
   "cell_type": "markdown",
   "id": "091b1e1c",
   "metadata": {},
   "source": [
    "__Ответ:__ значение коэффициента детерминации: 0.76342462"
   ]
  },
  {
   "cell_type": "markdown",
   "id": "22ef4735",
   "metadata": {},
   "source": [
    "__Задача 2__"
   ]
  },
  {
   "cell_type": "markdown",
   "id": "3b04b766",
   "metadata": {},
   "source": [
    "Является ли значимым уравнение регрессии, полученное в предыдущей задаче? В качестве ответа запишите 1, если является, и 0 иначе."
   ]
  },
  {
   "cell_type": "markdown",
   "id": "6b8686f8",
   "metadata": {},
   "source": [
    "Для таких целей существует т.н. __F-тест Фишера__. Формально при таком тесте проверяется нулевая гипотеза о том, что теоретический коэффициент детерминации равен $0$. Другими словами, если нулевая гипотеза верна, то между факторами и целевой переменной вообще нет никакой значимой зависимости, а отличие коэффициента детерминации от нуля обусловлено лишь случайностью процесса.\n",
    "\n",
    "При F-тесте используется статистика:\n",
    "$$F = \\dfrac{R^2 / m}{(1 - R^2) / (n - m - 1)},$$\n",
    "где $R^2$ — коэффициент детерминации, $n$ — число наблюдений, $m$ — число факторов. Такая статистика в предположении верности нулевой гипотезы имеет __F-распределение Фишера__ с параметрами $k_1 = m$, $k_2 = n - m - 1$.\n",
    "\n",
    "Распределение Фишера имеет один хвост, поэтому рассматривается правосторонняя критическая область $\\Omega_\\alpha = \\left( t_{1 - \\alpha, \\: k_1, k_2}, \\infty \\right)$, где $t_{1 - \\alpha, \\: k_1, k_2}$ — квантиль порядка $1 - \\alpha$ для распределения Фишера с параметрами $k_1$, $k_2$.\n",
    "\n",
    "Если статистика попадает в критическую область, то гипотеза о равенстве нулю коэффициента детерминации отвергается. Уравнение признаётся значимым."
   ]
  },
  {
   "cell_type": "code",
   "execution_count": 20,
   "id": "b53b8c41",
   "metadata": {},
   "outputs": [],
   "source": [
    "from scipy import stats"
   ]
  },
  {
   "cell_type": "code",
   "execution_count": 21,
   "id": "04cbe517",
   "metadata": {},
   "outputs": [
    {
     "data": {
      "text/plain": [
       "(1, 8)"
      ]
     },
     "execution_count": 21,
     "metadata": {},
     "output_type": "execute_result"
    }
   ],
   "source": [
    "n = df.shape[0]\n",
    "m = 2 - 1  # отнимаем 1 поскольку добавляли нулевой фактор\n",
    "\n",
    "k1 = m   \n",
    "k2 = n - m - 1\n",
    "\n",
    "k1, k2"
   ]
  },
  {
   "cell_type": "code",
   "execution_count": 22,
   "id": "3ef0af30",
   "metadata": {},
   "outputs": [
    {
     "data": {
      "text/plain": [
       "5.317655071578714"
      ]
     },
     "execution_count": 22,
     "metadata": {},
     "output_type": "execute_result"
    }
   ],
   "source": [
    "alpha = 0.05\n",
    "\n",
    "t = stats.f.ppf(1 - alpha, k1, k2)\n",
    "t   # квантиль порядка  1−𝛼  для распределения Фишера с параметрами  𝑘1 ,  𝑘2"
   ]
  },
  {
   "cell_type": "markdown",
   "id": "2af75d2d",
   "metadata": {},
   "source": [
    "Итак, критическая область:\n",
    "$$\\Omega_\\alpha = \\left( 5.32, \\infty \\right)$$"
   ]
  },
  {
   "cell_type": "code",
   "execution_count": 23,
   "id": "8caa8c19",
   "metadata": {},
   "outputs": [
    {
     "data": {
      "text/plain": [
       "25.815860852394596"
      ]
     },
     "execution_count": 23,
     "metadata": {},
     "output_type": "execute_result"
    }
   ],
   "source": [
    "F = (R2 / k1) / ((1 - R2) / k2)\n",
    "F   # статистика"
   ]
  },
  {
   "cell_type": "code",
   "execution_count": 24,
   "id": "8595ab31",
   "metadata": {},
   "outputs": [
    {
     "data": {
      "text/plain": [
       "True"
      ]
     },
     "execution_count": 24,
     "metadata": {},
     "output_type": "execute_result"
    }
   ],
   "source": [
    "F > t"
   ]
  },
  {
   "cell_type": "markdown",
   "id": "2aa77249",
   "metadata": {},
   "source": [
    "Статистика попала в критическую область, следовательно нулевая гипотеза отвергается и уравнение регрессии признаётся значимым."
   ]
  },
  {
   "cell_type": "markdown",
   "id": "7228b9e2",
   "metadata": {},
   "source": [
    "__Ответ__: 1"
   ]
  },
  {
   "cell_type": "markdown",
   "id": "95125e42",
   "metadata": {},
   "source": [
    "__Задача 3__"
   ]
  },
  {
   "cell_type": "markdown",
   "id": "6b492e96",
   "metadata": {},
   "source": [
    "Для проведения A/B-тестирования сайта интернет-магазина были получены следующие данные: страница `A` была посещена 2509 раз, из них 77 закончились совершением покупки, страница `B` была посещена 1465 раз, 60 из них закончились совершением покупки. Является ли значимым отличие конверсии на страницах `A` и `B`? В качестве ответа запишите 1, если является, и 0 иначе."
   ]
  },
  {
   "cell_type": "markdown",
   "id": "04eb5c6c",
   "metadata": {},
   "source": [
    "_Подсказка_. Реализуйте двухвыборочный t-тест. В качестве выборок здесь можно взять наборы меток совершения покупки (0 или 1) каждым посетителем."
   ]
  },
  {
   "cell_type": "markdown",
   "id": "23981ebf",
   "metadata": {},
   "source": [
    " Имеются две независимые выборки $a$, $b$, взятые. Требуется проверить гипотезу о том,  что конверсия на страницах A и B не отличается (отличие незначимо), т.е.\n",
    "$$H_0: \\: con_a = con_b$$"
   ]
  },
  {
   "cell_type": "code",
   "execution_count": 25,
   "id": "52cd8b5e",
   "metadata": {},
   "outputs": [],
   "source": [
    "a = np.zeros((2509, 1))\n",
    "a[0:76] = 1\n",
    "b = np.zeros((1465, 1))\n",
    "a[0:59] = 1"
   ]
  },
  {
   "cell_type": "markdown",
   "id": "25d307d3",
   "metadata": {},
   "source": [
    "Размеры выборок равны, соответственно, $n_1$ и $n_2$. Обозначим через\n",
    "$$\\sigma_\\Delta = \\sqrt{\\dfrac{\\sigma_{X_1}^2}{n_1} + \\dfrac{\\sigma_{X_2}^2}{n_2}}$$\n",
    "среднее квадратическое отклонение разности между выборочными средними выборок $X_1$ и $X_2$. Здесь $\\sigma_{X_i}^2$ — несмещённая оценка дисперсии по выборке $X_i$."
   ]
  },
  {
   "cell_type": "code",
   "execution_count": 26,
   "id": "54a7ce40",
   "metadata": {},
   "outputs": [],
   "source": [
    "na = a.size   # размер выборки a\n",
    "nb = b.size   # размер выборк b\n",
    "\n",
    "sa = a.std(ddof=1)   #несмещенное среднеквадратичное отклонение по выборке a\n",
    "sb = b.std(ddof=1)   #несмещенное среднеквадратичное отклонение по выборке b"
   ]
  },
  {
   "cell_type": "code",
   "execution_count": 27,
   "id": "77598dca",
   "metadata": {},
   "outputs": [
    {
     "data": {
      "text/plain": [
       "0.00342226332551712"
      ]
     },
     "execution_count": 27,
     "metadata": {},
     "output_type": "execute_result"
    }
   ],
   "source": [
    "s_delta = np.sqrt(sa ** 2 / na + sb ** 2 / nb)\n",
    "s_delta   # среднее квадратическое отклонение разности между выборочными средними выборок"
   ]
  },
  {
   "cell_type": "markdown",
   "id": "0d0c2759",
   "metadata": {},
   "source": [
    "Для проверки данной гипотезы используется следующая __статистика__:\n",
    "$$t = \\dfrac{\\overline{X_1} - \\overline{X_2}}{\\sigma_\\Delta}$$"
   ]
  },
  {
   "cell_type": "code",
   "execution_count": 28,
   "id": "bc02fc1a",
   "metadata": {},
   "outputs": [
    {
     "data": {
      "text/plain": [
       "8.851146066081345"
      ]
     },
     "execution_count": 28,
     "metadata": {},
     "output_type": "execute_result"
    }
   ],
   "source": [
    "t = (a.mean() - b.mean()) / s_delta\n",
    "\n",
    "t   # значение статистики"
   ]
  },
  {
   "cell_type": "markdown",
   "id": "f9eacc9c",
   "metadata": {},
   "source": [
    "В предположении нулевой гипотезы данная статистика имеет распределение Стьюдента. Число степеней свободы распределения определяется из следующего равенства:\n",
    "$$df = \\dfrac{\\left( \\dfrac{\\sigma_{X_1}^2}{n_1} + \\dfrac{\\sigma_{X_2}^2}{n_2} \\right)^2}{\\dfrac{\\left( \\sigma_{X_1}^2 / n_1 \\right)^2}{n_1 - 1} + \\dfrac{\\left( \\sigma_{X_2}^2 / n_2 \\right)^2}{n_2 - 1}}$$"
   ]
  },
  {
   "cell_type": "markdown",
   "id": "503efc0b",
   "metadata": {},
   "source": [
    "Зафиксируем уровень значимости $\\alpha = 0.05$. Теперь нужно посчитать квантили распределения Стьюдента. Посчитаем число степеней свободы этого распределения:"
   ]
  },
  {
   "cell_type": "code",
   "execution_count": 29,
   "id": "522e5849",
   "metadata": {},
   "outputs": [
    {
     "data": {
      "text/plain": [
       "2508.0"
      ]
     },
     "execution_count": 29,
     "metadata": {},
     "output_type": "execute_result"
    }
   ],
   "source": [
    "df = (sa ** 2 / na + sb ** 2 / nb) ** 2 / \\\n",
    "    ((sa ** 2 / na) ** 2 / (na - 1) + (sb ** 2 / nb) ** 2 / (nb - 1))\n",
    "\n",
    "df"
   ]
  },
  {
   "cell_type": "code",
   "execution_count": 30,
   "id": "683b34fe",
   "metadata": {},
   "outputs": [
    {
     "data": {
      "text/plain": [
       "(-1.9609103150962355, 1.960910315096235)"
      ]
     },
     "execution_count": 30,
     "metadata": {},
     "output_type": "execute_result"
    }
   ],
   "source": [
    "alpha = 0.05\n",
    "\n",
    "t1 = stats.t.ppf(alpha / 2, df=df)\n",
    "t2 = stats.t.ppf(1 - alpha / 2, df=df)\n",
    "\n",
    "t1, t2"
   ]
  },
  {
   "cell_type": "markdown",
   "id": "73f7ee82",
   "metadata": {},
   "source": [
    "Итак, критическая область имеет вид:\n",
    "$$\\Omega_\\alpha = (-\\infty, -1.96) \\cup (1.96, \\infty)$$\n",
    "\n",
    "Значение статистики равно $8.85$ и попало в критическую область. Гипотеза о равенстве конверсий отвергается. Значит, утверждение о том, что отличие конверсии на страницах A и B незначимо, ложно."
   ]
  },
  {
   "cell_type": "code",
   "execution_count": 31,
   "id": "0f65129b",
   "metadata": {},
   "outputs": [
    {
     "data": {
      "text/plain": [
       "Ttest_indResult(statistic=array([8.85114607]), pvalue=array([1.60169206e-18]))"
      ]
     },
     "execution_count": 31,
     "metadata": {},
     "output_type": "execute_result"
    }
   ],
   "source": [
    "stats.ttest_ind(a, b, equal_var=False)"
   ]
  },
  {
   "cell_type": "markdown",
   "id": "7ee1a5ef",
   "metadata": {},
   "source": [
    "__Ответ__: 0"
   ]
  },
  {
   "cell_type": "code",
   "execution_count": null,
   "id": "8c07a7a4",
   "metadata": {},
   "outputs": [],
   "source": []
  }
 ],
 "metadata": {
  "kernelspec": {
   "display_name": "Python 3 (ipykernel)",
   "language": "python",
   "name": "python3"
  },
  "language_info": {
   "codemirror_mode": {
    "name": "ipython",
    "version": 3
   },
   "file_extension": ".py",
   "mimetype": "text/x-python",
   "name": "python",
   "nbconvert_exporter": "python",
   "pygments_lexer": "ipython3",
   "version": "3.9.7"
  }
 },
 "nbformat": 4,
 "nbformat_minor": 5
}
