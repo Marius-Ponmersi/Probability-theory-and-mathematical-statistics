{
 "cells": [
  {
   "cell_type": "markdown",
   "id": "c776e9e7",
   "metadata": {},
   "source": [
    "## Взаимосвязь величин. Показатели корреляции. Корреляционный анализ. Проверка на нормальность\n",
    "\n",
    "### Домашнее задание"
   ]
  },
  {
   "cell_type": "markdown",
   "id": "3a9e892d",
   "metadata": {},
   "source": [
    "__1.__ Даны значения величины заработной платы заемщиков банка (zp) и значения их поведенческого кредитного скоринга (ks):\n",
    "```\n",
    "zp = [35, 45, 190, 200, 40, 70, 54, 150, 120, 110],\n",
    "ks = [401, 574, 874, 919, 459, 739, 653, 902, 746, 832].\n",
    "```\n",
    "Найдите ковариацию этих двух величин с помощью элементарных действий, а затем с помощью функции cov из numpy\n",
    "Полученные значения должны быть равны.\n",
    "Найдите коэффициент корреляции Пирсона с помощью ковариации и среднеквадратичных отклонений двух признаков,\n",
    "а затем с использованием функций из библиотек numpy и pandas.\n"
   ]
  },
  {
   "cell_type": "code",
   "execution_count": 15,
   "id": "6e4e3b74",
   "metadata": {},
   "outputs": [],
   "source": [
    "import numpy as np\n",
    "import pandas as pd"
   ]
  },
  {
   "cell_type": "code",
   "execution_count": 2,
   "id": "b3cba47a",
   "metadata": {},
   "outputs": [],
   "source": [
    "zp = np.array([35, 45, 190, 200, 40, 70, 54, 150, 120, 110])\n",
    "ks = np.array([401, 574, 874, 919, 459, 739, 653, 902, 746, 832])"
   ]
  },
  {
   "cell_type": "code",
   "execution_count": 3,
   "id": "a34d2916",
   "metadata": {},
   "outputs": [
    {
     "data": {
      "text/plain": [
       "(True, True, True)"
      ]
     },
     "execution_count": 3,
     "metadata": {},
     "output_type": "execute_result"
    }
   ],
   "source": [
    "Mzp = sum(zp) / len(zp)   # мат. оэидание zp\n",
    "Vzp = sum((zp - Mzp)**2) / (len(zp) - 1)   # несмещенная дисперсия zp\n",
    "Szp = Vzp ** (0.5)   # среднеквадратичное отклонение zp\n",
    "Mzp == zp.mean(), Vzp == zp.var(ddof=1),  Szp == zp.std(ddof=1)"
   ]
  },
  {
   "cell_type": "code",
   "execution_count": 4,
   "id": "abd24784",
   "metadata": {},
   "outputs": [
    {
     "data": {
      "text/plain": [
       "(True, True, True)"
      ]
     },
     "execution_count": 4,
     "metadata": {},
     "output_type": "execute_result"
    }
   ],
   "source": [
    "Mks = sum(ks) / len(ks)   # мат. оэидание ks\n",
    "Vks = sum((ks - Mks)**2) / (len(ks) - 1)   # несмещенная дисперсия ks\n",
    "Sks = Vks ** (0.5)   # среднеквадратичное отклонение ks\n",
    "Mks == ks.mean(),  Vks == ks.var(ddof=1),  Sks == ks.std(ddof=1)"
   ]
  },
  {
   "cell_type": "code",
   "execution_count": 5,
   "id": "dc124b73",
   "metadata": {},
   "outputs": [
    {
     "data": {
      "text/plain": [
       "10175.37777777778"
      ]
     },
     "execution_count": 5,
     "metadata": {},
     "output_type": "execute_result"
    }
   ],
   "source": [
    "cov = ((zp - Mzp) * (ks - Mks)).sum() / (zp.shape[0] - 1)   #ковариация zp и ks\n",
    "cov "
   ]
  },
  {
   "cell_type": "code",
   "execution_count": 6,
   "id": "d30b56f1",
   "metadata": {},
   "outputs": [
    {
     "data": {
      "text/plain": [
       "array([[ 3882.93333333, 10175.37777778],\n",
       "       [10175.37777778, 33854.32222222]])"
      ]
     },
     "execution_count": 6,
     "metadata": {},
     "output_type": "execute_result"
    }
   ],
   "source": [
    "np.cov(zp, ks, ddof=1)   # ковариация zp и ks"
   ]
  },
  {
   "cell_type": "code",
   "execution_count": 8,
   "id": "0b6f5226",
   "metadata": {},
   "outputs": [
    {
     "data": {
      "text/plain": [
       "0.8874900920739164"
      ]
     },
     "execution_count": 8,
     "metadata": {},
     "output_type": "execute_result"
    }
   ],
   "source": [
    "r = cov / (Szp * Sks)   # коэффициент корреляции Пирсона zp и ks\n",
    "r"
   ]
  },
  {
   "cell_type": "code",
   "execution_count": 11,
   "id": "aabd474c",
   "metadata": {},
   "outputs": [
    {
     "data": {
      "text/plain": [
       "array([[1.        , 0.88749009],\n",
       "       [0.88749009, 1.        ]])"
      ]
     },
     "execution_count": 11,
     "metadata": {},
     "output_type": "execute_result"
    }
   ],
   "source": [
    "np.corrcoef(zp, ks)"
   ]
  },
  {
   "cell_type": "code",
   "execution_count": 13,
   "id": "a58cd5b0",
   "metadata": {},
   "outputs": [],
   "source": [
    "df = pd.DataFrame({'zp': zp, 'ks': ks})"
   ]
  },
  {
   "cell_type": "code",
   "execution_count": 14,
   "id": "479ad3c5",
   "metadata": {},
   "outputs": [
    {
     "data": {
      "text/html": [
       "<div>\n",
       "<style scoped>\n",
       "    .dataframe tbody tr th:only-of-type {\n",
       "        vertical-align: middle;\n",
       "    }\n",
       "\n",
       "    .dataframe tbody tr th {\n",
       "        vertical-align: top;\n",
       "    }\n",
       "\n",
       "    .dataframe thead th {\n",
       "        text-align: right;\n",
       "    }\n",
       "</style>\n",
       "<table border=\"1\" class=\"dataframe\">\n",
       "  <thead>\n",
       "    <tr style=\"text-align: right;\">\n",
       "      <th></th>\n",
       "      <th>zp</th>\n",
       "      <th>ks</th>\n",
       "    </tr>\n",
       "  </thead>\n",
       "  <tbody>\n",
       "    <tr>\n",
       "      <th>zp</th>\n",
       "      <td>1.00000</td>\n",
       "      <td>0.88749</td>\n",
       "    </tr>\n",
       "    <tr>\n",
       "      <th>ks</th>\n",
       "      <td>0.88749</td>\n",
       "      <td>1.00000</td>\n",
       "    </tr>\n",
       "  </tbody>\n",
       "</table>\n",
       "</div>"
      ],
      "text/plain": [
       "         zp       ks\n",
       "zp  1.00000  0.88749\n",
       "ks  0.88749  1.00000"
      ]
     },
     "execution_count": 14,
     "metadata": {},
     "output_type": "execute_result"
    }
   ],
   "source": [
    "df.corr()"
   ]
  },
  {
   "cell_type": "markdown",
   "id": "a3dc29e5",
   "metadata": {},
   "source": [
    "__2.__ Измерены значения IQ выборки студентов,\n",
    "обучающихся в местных технических вузах:\n",
    "```\n",
    "131, 125, 115, 122, 131, 115, 107, 99, 125, 111\n",
    "```\n",
    "Известно, что в генеральной совокупности IQ распределен нормально.\n",
    "Найдите доверительный интервал для математического ожидания с надежностью 0.95.\n"
   ]
  },
  {
   "cell_type": "code",
   "execution_count": 26,
   "id": "8c7cbecd",
   "metadata": {},
   "outputs": [],
   "source": [
    "from scipy import stats"
   ]
  },
  {
   "cell_type": "code",
   "execution_count": 18,
   "id": "9ad5bf2f",
   "metadata": {},
   "outputs": [],
   "source": [
    "iq = np.array([131, 125, 115, 122, 131, 115, 107, 99, 125, 111])"
   ]
  },
  {
   "cell_type": "code",
   "execution_count": 22,
   "id": "eddbce53",
   "metadata": {},
   "outputs": [],
   "source": [
    "p = 0.95   # уровень доверия\n",
    "a = 1 - p   # уровень значимости\n",
    "n = len(iq)   # размер выборки"
   ]
  },
  {
   "cell_type": "markdown",
   "id": "4b0579aa",
   "metadata": {},
   "source": [
    "Так как дисперсия неизвестна, то используем T-статистику"
   ]
  },
  {
   "cell_type": "code",
   "execution_count": 24,
   "id": "abd0a4aa",
   "metadata": {},
   "outputs": [
    {
     "data": {
      "text/plain": [
       "(118.1, 10.54566788359614)"
      ]
     },
     "execution_count": 24,
     "metadata": {},
     "output_type": "execute_result"
    }
   ],
   "source": [
    "mean = iq.mean()   # выборочное среднее\n",
    "std = iq.std(ddof=1)   # среднеквадратичное отклонение по выборке\n",
    "mean, std"
   ]
  },
  {
   "cell_type": "code",
   "execution_count": 28,
   "id": "a0d2c323",
   "metadata": {},
   "outputs": [
    {
     "data": {
      "text/plain": [
       "(-2.2621571627409915, 2.2621571627409915)"
      ]
     },
     "execution_count": 28,
     "metadata": {},
     "output_type": "execute_result"
    }
   ],
   "source": [
    "t1 = stats.t.ppf(a / 2, df=n - 1)   # квантиль порядка a / 2 для распределения Стьюдента\n",
    "t2 = stats.t.ppf(1 - a / 2, df=n - 1)   # # квантиль порядка 1 - a / 2 для распределения Стьюдента\n",
    "t1, t2"
   ]
  },
  {
   "cell_type": "markdown",
   "id": "142c8dc1",
   "metadata": {},
   "source": [
    "Доверительный интервал:"
   ]
  },
  {
   "cell_type": "code",
   "execution_count": 29,
   "id": "a72243bd",
   "metadata": {},
   "outputs": [
    {
     "data": {
      "text/plain": [
       "(110.55608365158724, 125.64391634841274)"
      ]
     },
     "execution_count": 29,
     "metadata": {},
     "output_type": "execute_result"
    }
   ],
   "source": [
    "(mean + t1 * std / np.sqrt(n), mean + t2 * std / np.sqrt(n))"
   ]
  },
  {
   "cell_type": "markdown",
   "id": "a97a8b4e",
   "metadata": {},
   "source": [
    "__3.__ Известно, что рост футболистов в сборной распределен нормально\n",
    "с дисперсией генеральной совокупности, равной 25 кв.см. Объем выборки равен 27,\n",
    "среднее выборочное составляет 174.2. Найдите доверительный интервал для математического\n",
    "ожидания с надежностью 0.95.\n"
   ]
  },
  {
   "cell_type": "code",
   "execution_count": 42,
   "id": "7515f893",
   "metadata": {},
   "outputs": [],
   "source": [
    "v = 25   # дисперсия генеральной совокупности\n",
    "n = 27   # размер выборки\n",
    "m = 174.2   # выборочное среднее\n",
    "p = 0.95   # уровень доверия\n",
    "a = 1 - p   # уровень значимости"
   ]
  },
  {
   "cell_type": "code",
   "execution_count": 43,
   "id": "2932a0e4",
   "metadata": {},
   "outputs": [],
   "source": [
    "std = v ** (0.5)   # среднеквадратичное отклонение генеральной совокупности"
   ]
  },
  {
   "cell_type": "markdown",
   "id": "e61c468e",
   "metadata": {},
   "source": [
    "Так как дисперсия известна, то используем Z-статистику"
   ]
  },
  {
   "cell_type": "code",
   "execution_count": 46,
   "id": "ecc16d57",
   "metadata": {},
   "outputs": [
    {
     "data": {
      "text/plain": [
       "(-1.959963984540054, 1.959963984540054)"
      ]
     },
     "execution_count": 46,
     "metadata": {},
     "output_type": "execute_result"
    }
   ],
   "source": [
    "t1 = stats.norm.ppf(a / 2)   # квантиль порядка a / 2 для нормального распределения\n",
    "t2 = stats.norm.ppf(1 - a / 2)   # квантиль порядка 1 - a / 2 для нормального распределения\n",
    "t1, t2"
   ]
  },
  {
   "cell_type": "markdown",
   "id": "1e6d2f68",
   "metadata": {},
   "source": [
    "Доверительный интервал:"
   ]
  },
  {
   "cell_type": "code",
   "execution_count": 47,
   "id": "98c2a323",
   "metadata": {},
   "outputs": [
    {
     "data": {
      "text/plain": [
       "(172.3140237765397, 176.08597622346028)"
      ]
     },
     "execution_count": 47,
     "metadata": {},
     "output_type": "execute_result"
    }
   ],
   "source": [
    "(m + t1 * std / np.sqrt(n), m + t2 * std / np.sqrt(n))"
   ]
  },
  {
   "cell_type": "code",
   "execution_count": null,
   "id": "f9c53d8b",
   "metadata": {},
   "outputs": [],
   "source": []
  }
 ],
 "metadata": {
  "kernelspec": {
   "display_name": "Python 3 (ipykernel)",
   "language": "python",
   "name": "python3"
  },
  "language_info": {
   "codemirror_mode": {
    "name": "ipython",
    "version": 3
   },
   "file_extension": ".py",
   "mimetype": "text/x-python",
   "name": "python",
   "nbconvert_exporter": "python",
   "pygments_lexer": "ipython3",
   "version": "3.9.7"
  }
 },
 "nbformat": 4,
 "nbformat_minor": 5
}
