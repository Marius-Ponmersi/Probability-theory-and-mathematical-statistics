{
 "cells": [
  {
   "cell_type": "markdown",
   "id": "ff6d0c6a",
   "metadata": {},
   "source": [
    "## Урок 8"
   ]
  },
  {
   "cell_type": "markdown",
   "id": "635e0108",
   "metadata": {},
   "source": [
    "## Дисперсионный анализ. Метод главных компонент. Логистическая регрессия"
   ]
  },
  {
   "cell_type": "markdown",
   "id": "779a7f0f",
   "metadata": {},
   "source": [
    "### Домашнее задание"
   ]
  },
  {
   "cell_type": "markdown",
   "id": "d3124e4c",
   "metadata": {},
   "source": [
    "В поле ответа впишите одно число. Нецелые числа следует округлить до 8 знаков после запятой."
   ]
  },
  {
   "cell_type": "markdown",
   "id": "37b09635",
   "metadata": {},
   "source": [
    "__Задача 1__"
   ]
  },
  {
   "cell_type": "markdown",
   "id": "37b01774",
   "metadata": {},
   "source": [
    "Используя данные о хоккеистах (скачать можно [здесь](https://habr.com/ru/post/301340/)), проверьте, является ли среди хоккеистов из Финляндии, Норвегии и Дании значимым отличие: а) роста, б) BMI.\n",
    ". В качестве ответа запишите 1, если является, и 0 иначе.\n"
   ]
  },
  {
   "cell_type": "markdown",
   "id": "db04f6eb",
   "metadata": {},
   "source": [
    "_Подсказка_: не забудьте предобработать данные (например, дублируются ли данные о конкретных игроках?)."
   ]
  },
  {
   "cell_type": "code",
   "execution_count": 1,
   "id": "4fa4ff79",
   "metadata": {},
   "outputs": [],
   "source": [
    "import pandas as pd\n",
    "import numpy as np"
   ]
  },
  {
   "cell_type": "code",
   "execution_count": 2,
   "id": "18a80ed8",
   "metadata": {},
   "outputs": [],
   "source": [
    "df = pd.read_csv('hockey_players.csv', encoding = 'iso-8859-1')"
   ]
  },
  {
   "cell_type": "code",
   "execution_count": 23,
   "id": "844ea99f",
   "metadata": {},
   "outputs": [
    {
     "data": {
      "text/plain": [
       "array(['RUS', 'AUT', 'BLR', 'CAN', 'CZE', 'FIN', 'GER', 'ITA', 'JPN',\n",
       "       'LAT', 'NOR', 'SUI', 'SVK', 'SWE', 'UKR', 'USA', 'POL', 'SLO',\n",
       "       'DEN', 'FRA', 'KAZ', 'HUN'], dtype=object)"
      ]
     },
     "execution_count": 23,
     "metadata": {},
     "output_type": "execute_result"
    }
   ],
   "source": [
    "df['country'].unique()"
   ]
  },
  {
   "cell_type": "code",
   "execution_count": 3,
   "id": "eebdb2a2",
   "metadata": {},
   "outputs": [
    {
     "data": {
      "text/html": [
       "<div>\n",
       "<style scoped>\n",
       "    .dataframe tbody tr th:only-of-type {\n",
       "        vertical-align: middle;\n",
       "    }\n",
       "\n",
       "    .dataframe tbody tr th {\n",
       "        vertical-align: top;\n",
       "    }\n",
       "\n",
       "    .dataframe thead th {\n",
       "        text-align: right;\n",
       "    }\n",
       "</style>\n",
       "<table border=\"1\" class=\"dataframe\">\n",
       "  <thead>\n",
       "    <tr style=\"text-align: right;\">\n",
       "      <th></th>\n",
       "      <th>year</th>\n",
       "      <th>country</th>\n",
       "      <th>no</th>\n",
       "      <th>name</th>\n",
       "      <th>position</th>\n",
       "      <th>side</th>\n",
       "      <th>height</th>\n",
       "      <th>weight</th>\n",
       "      <th>birth</th>\n",
       "      <th>club</th>\n",
       "      <th>age</th>\n",
       "      <th>cohort</th>\n",
       "      <th>bmi</th>\n",
       "    </tr>\n",
       "  </thead>\n",
       "  <tbody>\n",
       "    <tr>\n",
       "      <th>120</th>\n",
       "      <td>2001</td>\n",
       "      <td>FIN</td>\n",
       "      <td>2</td>\n",
       "      <td>kiprusoff marko</td>\n",
       "      <td>D</td>\n",
       "      <td>R</td>\n",
       "      <td>184</td>\n",
       "      <td>89.0</td>\n",
       "      <td>1972-06-06</td>\n",
       "      <td>ehc kloten</td>\n",
       "      <td>28.900753</td>\n",
       "      <td>1972</td>\n",
       "      <td>26.287807</td>\n",
       "    </tr>\n",
       "    <tr>\n",
       "      <th>121</th>\n",
       "      <td>2001</td>\n",
       "      <td>FIN</td>\n",
       "      <td>3</td>\n",
       "      <td>nummelin petteri</td>\n",
       "      <td>D</td>\n",
       "      <td>L</td>\n",
       "      <td>178</td>\n",
       "      <td>83.0</td>\n",
       "      <td>1972-11-25</td>\n",
       "      <td>columbus blue jackets</td>\n",
       "      <td>28.429843</td>\n",
       "      <td>1972</td>\n",
       "      <td>26.196187</td>\n",
       "    </tr>\n",
       "    <tr>\n",
       "      <th>122</th>\n",
       "      <td>2001</td>\n",
       "      <td>FIN</td>\n",
       "      <td>4</td>\n",
       "      <td>timonen kimmo</td>\n",
       "      <td>D</td>\n",
       "      <td>L</td>\n",
       "      <td>178</td>\n",
       "      <td>88.0</td>\n",
       "      <td>1975-03-18</td>\n",
       "      <td>nashville predators</td>\n",
       "      <td>26.121834</td>\n",
       "      <td>1975</td>\n",
       "      <td>27.774271</td>\n",
       "    </tr>\n",
       "    <tr>\n",
       "      <th>123</th>\n",
       "      <td>2001</td>\n",
       "      <td>FIN</td>\n",
       "      <td>40</td>\n",
       "      <td>niemi antti-jussi</td>\n",
       "      <td>D</td>\n",
       "      <td>L</td>\n",
       "      <td>185</td>\n",
       "      <td>87.0</td>\n",
       "      <td>1977-09-22</td>\n",
       "      <td>anaheim mighty ducks</td>\n",
       "      <td>23.605749</td>\n",
       "      <td>1977</td>\n",
       "      <td>25.420015</td>\n",
       "    </tr>\n",
       "    <tr>\n",
       "      <th>124</th>\n",
       "      <td>2001</td>\n",
       "      <td>FIN</td>\n",
       "      <td>5</td>\n",
       "      <td>salo sami</td>\n",
       "      <td>D</td>\n",
       "      <td>R</td>\n",
       "      <td>192</td>\n",
       "      <td>99.0</td>\n",
       "      <td>1974-09-02</td>\n",
       "      <td>ottawa senators</td>\n",
       "      <td>26.661191</td>\n",
       "      <td>1974</td>\n",
       "      <td>26.855469</td>\n",
       "    </tr>\n",
       "    <tr>\n",
       "      <th>...</th>\n",
       "      <td>...</td>\n",
       "      <td>...</td>\n",
       "      <td>...</td>\n",
       "      <td>...</td>\n",
       "      <td>...</td>\n",
       "      <td>...</td>\n",
       "      <td>...</td>\n",
       "      <td>...</td>\n",
       "      <td>...</td>\n",
       "      <td>...</td>\n",
       "      <td>...</td>\n",
       "      <td>...</td>\n",
       "      <td>...</td>\n",
       "    </tr>\n",
       "    <tr>\n",
       "      <th>6188</th>\n",
       "      <td>2016</td>\n",
       "      <td>NOR</td>\n",
       "      <td>8</td>\n",
       "      <td>trettenes mathias</td>\n",
       "      <td>F</td>\n",
       "      <td>L</td>\n",
       "      <td>179</td>\n",
       "      <td>76.0</td>\n",
       "      <td>1993-11-08</td>\n",
       "      <td>stavanger oilers</td>\n",
       "      <td>22.477755</td>\n",
       "      <td>1993</td>\n",
       "      <td>23.719609</td>\n",
       "    </tr>\n",
       "    <tr>\n",
       "      <th>6189</th>\n",
       "      <td>2016</td>\n",
       "      <td>NOR</td>\n",
       "      <td>93</td>\n",
       "      <td>valkvae olsen thomas</td>\n",
       "      <td>F</td>\n",
       "      <td>R</td>\n",
       "      <td>186</td>\n",
       "      <td>88.0</td>\n",
       "      <td>1993-05-18</td>\n",
       "      <td>frisk asker</td>\n",
       "      <td>22.954141</td>\n",
       "      <td>1993</td>\n",
       "      <td>25.436467</td>\n",
       "    </tr>\n",
       "    <tr>\n",
       "      <th>6190</th>\n",
       "      <td>2016</td>\n",
       "      <td>NOR</td>\n",
       "      <td>30</td>\n",
       "      <td>haugen lars</td>\n",
       "      <td>G</td>\n",
       "      <td>L</td>\n",
       "      <td>185</td>\n",
       "      <td>83.0</td>\n",
       "      <td>1987-03-19</td>\n",
       "      <td>farjestad karlstad</td>\n",
       "      <td>29.119781</td>\n",
       "      <td>1987</td>\n",
       "      <td>24.251278</td>\n",
       "    </tr>\n",
       "    <tr>\n",
       "      <th>6191</th>\n",
       "      <td>2016</td>\n",
       "      <td>NOR</td>\n",
       "      <td>31</td>\n",
       "      <td>volden lars</td>\n",
       "      <td>G</td>\n",
       "      <td>L</td>\n",
       "      <td>190</td>\n",
       "      <td>95.0</td>\n",
       "      <td>1992-07-26</td>\n",
       "      <td>rogle angelholm</td>\n",
       "      <td>23.764545</td>\n",
       "      <td>1992</td>\n",
       "      <td>26.315789</td>\n",
       "    </tr>\n",
       "    <tr>\n",
       "      <th>6192</th>\n",
       "      <td>2016</td>\n",
       "      <td>NOR</td>\n",
       "      <td>70</td>\n",
       "      <td>soberg steffen</td>\n",
       "      <td>G</td>\n",
       "      <td>L</td>\n",
       "      <td>180</td>\n",
       "      <td>78.0</td>\n",
       "      <td>1993-08-06</td>\n",
       "      <td>valerenga oslo</td>\n",
       "      <td>22.735113</td>\n",
       "      <td>1993</td>\n",
       "      <td>24.074074</td>\n",
       "    </tr>\n",
       "  </tbody>\n",
       "</table>\n",
       "<p>1026 rows × 13 columns</p>\n",
       "</div>"
      ],
      "text/plain": [
       "      year country  no                  name position side  height  weight  \\\n",
       "120   2001     FIN   2      kiprusoff marko         D    R     184    89.0   \n",
       "121   2001     FIN   3     nummelin petteri         D    L     178    83.0   \n",
       "122   2001     FIN   4        timonen kimmo         D    L     178    88.0   \n",
       "123   2001     FIN  40    niemi antti-jussi         D    L     185    87.0   \n",
       "124   2001     FIN   5            salo sami         D    R     192    99.0   \n",
       "...    ...     ...  ..                   ...      ...  ...     ...     ...   \n",
       "6188  2016     NOR   8     trettenes mathias        F    L     179    76.0   \n",
       "6189  2016     NOR  93  valkvae olsen thomas        F    R     186    88.0   \n",
       "6190  2016     NOR  30           haugen lars        G    L     185    83.0   \n",
       "6191  2016     NOR  31           volden lars        G    L     190    95.0   \n",
       "6192  2016     NOR  70        soberg steffen        G    L     180    78.0   \n",
       "\n",
       "           birth                    club        age  cohort        bmi  \n",
       "120   1972-06-06             ehc kloten   28.900753    1972  26.287807  \n",
       "121   1972-11-25  columbus blue jackets   28.429843    1972  26.196187  \n",
       "122   1975-03-18    nashville predators   26.121834    1975  27.774271  \n",
       "123   1977-09-22   anaheim mighty ducks   23.605749    1977  25.420015  \n",
       "124   1974-09-02        ottawa senators   26.661191    1974  26.855469  \n",
       "...          ...                     ...        ...     ...        ...  \n",
       "6188  1993-11-08        stavanger oilers  22.477755    1993  23.719609  \n",
       "6189  1993-05-18             frisk asker  22.954141    1993  25.436467  \n",
       "6190  1987-03-19      farjestad karlstad  29.119781    1987  24.251278  \n",
       "6191  1992-07-26         rogle angelholm  23.764545    1992  26.315789  \n",
       "6192  1993-08-06          valerenga oslo  22.735113    1993  24.074074  \n",
       "\n",
       "[1026 rows x 13 columns]"
      ]
     },
     "execution_count": 3,
     "metadata": {},
     "output_type": "execute_result"
    }
   ],
   "source": [
    "skand = df.loc[df['country'].isin(['NOR', 'FIN', 'DEN'])]\n",
    "skand"
   ]
  },
  {
   "cell_type": "code",
   "execution_count": 4,
   "id": "51530e02",
   "metadata": {},
   "outputs": [
    {
     "data": {
      "text/plain": [
       "green morten              12\n",
       "madsen morten             11\n",
       "nielsen daniel            11\n",
       "holos jonas               11\n",
       "bastiansen anders         11\n",
       "                          ..\n",
       "smidt michael              1\n",
       "staal kim                  1\n",
       "hansen jannik              1\n",
       "kjaergaard christoffer     1\n",
       "valkvae olsen thomas       1\n",
       "Name: name, Length: 430, dtype: int64"
      ]
     },
     "execution_count": 4,
     "metadata": {},
     "output_type": "execute_result"
    }
   ],
   "source": [
    "skand['name'].value_counts()"
   ]
  },
  {
   "cell_type": "code",
   "execution_count": 5,
   "id": "b26be423",
   "metadata": {},
   "outputs": [
    {
     "data": {
      "text/html": [
       "<div>\n",
       "<style scoped>\n",
       "    .dataframe tbody tr th:only-of-type {\n",
       "        vertical-align: middle;\n",
       "    }\n",
       "\n",
       "    .dataframe tbody tr th {\n",
       "        vertical-align: top;\n",
       "    }\n",
       "\n",
       "    .dataframe thead th {\n",
       "        text-align: right;\n",
       "    }\n",
       "</style>\n",
       "<table border=\"1\" class=\"dataframe\">\n",
       "  <thead>\n",
       "    <tr style=\"text-align: right;\">\n",
       "      <th></th>\n",
       "      <th>year</th>\n",
       "      <th>country</th>\n",
       "      <th>no</th>\n",
       "      <th>name</th>\n",
       "      <th>position</th>\n",
       "      <th>side</th>\n",
       "      <th>height</th>\n",
       "      <th>weight</th>\n",
       "      <th>birth</th>\n",
       "      <th>club</th>\n",
       "      <th>age</th>\n",
       "      <th>cohort</th>\n",
       "      <th>bmi</th>\n",
       "    </tr>\n",
       "  </thead>\n",
       "  <tbody>\n",
       "    <tr>\n",
       "      <th>475</th>\n",
       "      <td>2002</td>\n",
       "      <td>FIN</td>\n",
       "      <td>3</td>\n",
       "      <td>nummelin petteri</td>\n",
       "      <td>D</td>\n",
       "      <td>L</td>\n",
       "      <td>178</td>\n",
       "      <td>83.0</td>\n",
       "      <td>1972-11-25</td>\n",
       "      <td>hc lugano</td>\n",
       "      <td>29.429158</td>\n",
       "      <td>1972</td>\n",
       "      <td>26.196187</td>\n",
       "    </tr>\n",
       "    <tr>\n",
       "      <th>477</th>\n",
       "      <td>2002</td>\n",
       "      <td>FIN</td>\n",
       "      <td>4</td>\n",
       "      <td>timonen kimmo</td>\n",
       "      <td>D</td>\n",
       "      <td>L</td>\n",
       "      <td>178</td>\n",
       "      <td>88.0</td>\n",
       "      <td>1975-03-18</td>\n",
       "      <td>nashville predators</td>\n",
       "      <td>27.121150</td>\n",
       "      <td>1975</td>\n",
       "      <td>27.774271</td>\n",
       "    </tr>\n",
       "    <tr>\n",
       "      <th>483</th>\n",
       "      <td>2002</td>\n",
       "      <td>FIN</td>\n",
       "      <td>14</td>\n",
       "      <td>helminen raimo</td>\n",
       "      <td>F</td>\n",
       "      <td>L</td>\n",
       "      <td>183</td>\n",
       "      <td>90.0</td>\n",
       "      <td>1964-03-11</td>\n",
       "      <td>ilves tampere</td>\n",
       "      <td>38.138261</td>\n",
       "      <td>1964</td>\n",
       "      <td>26.874496</td>\n",
       "    </tr>\n",
       "    <tr>\n",
       "      <th>484</th>\n",
       "      <td>2002</td>\n",
       "      <td>FIN</td>\n",
       "      <td>17</td>\n",
       "      <td>kallio tomi</td>\n",
       "      <td>F</td>\n",
       "      <td>L</td>\n",
       "      <td>184</td>\n",
       "      <td>85.0</td>\n",
       "      <td>1977-01-27</td>\n",
       "      <td>atlanta thrashers</td>\n",
       "      <td>25.256674</td>\n",
       "      <td>1977</td>\n",
       "      <td>25.106333</td>\n",
       "    </tr>\n",
       "    <tr>\n",
       "      <th>486</th>\n",
       "      <td>2002</td>\n",
       "      <td>FIN</td>\n",
       "      <td>21</td>\n",
       "      <td>kapanen niko</td>\n",
       "      <td>F</td>\n",
       "      <td>L</td>\n",
       "      <td>177</td>\n",
       "      <td>81.0</td>\n",
       "      <td>1978-04-29</td>\n",
       "      <td>utah grizzlies</td>\n",
       "      <td>24.005476</td>\n",
       "      <td>1978</td>\n",
       "      <td>25.854639</td>\n",
       "    </tr>\n",
       "    <tr>\n",
       "      <th>...</th>\n",
       "      <td>...</td>\n",
       "      <td>...</td>\n",
       "      <td>...</td>\n",
       "      <td>...</td>\n",
       "      <td>...</td>\n",
       "      <td>...</td>\n",
       "      <td>...</td>\n",
       "      <td>...</td>\n",
       "      <td>...</td>\n",
       "      <td>...</td>\n",
       "      <td>...</td>\n",
       "      <td>...</td>\n",
       "      <td>...</td>\n",
       "    </tr>\n",
       "    <tr>\n",
       "      <th>6187</th>\n",
       "      <td>2016</td>\n",
       "      <td>NOR</td>\n",
       "      <td>51</td>\n",
       "      <td>rosseli olsen mats</td>\n",
       "      <td>F</td>\n",
       "      <td>L</td>\n",
       "      <td>180</td>\n",
       "      <td>83.0</td>\n",
       "      <td>1991-04-29</td>\n",
       "      <td>frolunda gothenburg</td>\n",
       "      <td>25.007529</td>\n",
       "      <td>1991</td>\n",
       "      <td>25.617284</td>\n",
       "    </tr>\n",
       "    <tr>\n",
       "      <th>6188</th>\n",
       "      <td>2016</td>\n",
       "      <td>NOR</td>\n",
       "      <td>8</td>\n",
       "      <td>trettenes mathias</td>\n",
       "      <td>F</td>\n",
       "      <td>L</td>\n",
       "      <td>179</td>\n",
       "      <td>76.0</td>\n",
       "      <td>1993-11-08</td>\n",
       "      <td>stavanger oilers</td>\n",
       "      <td>22.477755</td>\n",
       "      <td>1993</td>\n",
       "      <td>23.719609</td>\n",
       "    </tr>\n",
       "    <tr>\n",
       "      <th>6190</th>\n",
       "      <td>2016</td>\n",
       "      <td>NOR</td>\n",
       "      <td>30</td>\n",
       "      <td>haugen lars</td>\n",
       "      <td>G</td>\n",
       "      <td>L</td>\n",
       "      <td>185</td>\n",
       "      <td>83.0</td>\n",
       "      <td>1987-03-19</td>\n",
       "      <td>farjestad karlstad</td>\n",
       "      <td>29.119781</td>\n",
       "      <td>1987</td>\n",
       "      <td>24.251278</td>\n",
       "    </tr>\n",
       "    <tr>\n",
       "      <th>6191</th>\n",
       "      <td>2016</td>\n",
       "      <td>NOR</td>\n",
       "      <td>31</td>\n",
       "      <td>volden lars</td>\n",
       "      <td>G</td>\n",
       "      <td>L</td>\n",
       "      <td>190</td>\n",
       "      <td>95.0</td>\n",
       "      <td>1992-07-26</td>\n",
       "      <td>rogle angelholm</td>\n",
       "      <td>23.764545</td>\n",
       "      <td>1992</td>\n",
       "      <td>26.315789</td>\n",
       "    </tr>\n",
       "    <tr>\n",
       "      <th>6192</th>\n",
       "      <td>2016</td>\n",
       "      <td>NOR</td>\n",
       "      <td>70</td>\n",
       "      <td>soberg steffen</td>\n",
       "      <td>G</td>\n",
       "      <td>L</td>\n",
       "      <td>180</td>\n",
       "      <td>78.0</td>\n",
       "      <td>1993-08-06</td>\n",
       "      <td>valerenga oslo</td>\n",
       "      <td>22.735113</td>\n",
       "      <td>1993</td>\n",
       "      <td>24.074074</td>\n",
       "    </tr>\n",
       "  </tbody>\n",
       "</table>\n",
       "<p>596 rows × 13 columns</p>\n",
       "</div>"
      ],
      "text/plain": [
       "      year country  no                name position side  height  weight  \\\n",
       "475   2002     FIN   3   nummelin petteri         D    L     178    83.0   \n",
       "477   2002     FIN   4      timonen kimmo         D    L     178    88.0   \n",
       "483   2002     FIN  14     helminen raimo         F    L     183    90.0   \n",
       "484   2002     FIN  17        kallio tomi         F    L     184    85.0   \n",
       "486   2002     FIN  21       kapanen niko         F    L     177    81.0   \n",
       "...    ...     ...  ..                 ...      ...  ...     ...     ...   \n",
       "6187  2016     NOR  51  rosseli olsen mats        F    L     180    83.0   \n",
       "6188  2016     NOR   8   trettenes mathias        F    L     179    76.0   \n",
       "6190  2016     NOR  30         haugen lars        G    L     185    83.0   \n",
       "6191  2016     NOR  31         volden lars        G    L     190    95.0   \n",
       "6192  2016     NOR  70      soberg steffen        G    L     180    78.0   \n",
       "\n",
       "           birth                  club        age  cohort        bmi  \n",
       "475   1972-11-25            hc lugano   29.429158    1972  26.196187  \n",
       "477   1975-03-18  nashville predators   27.121150    1975  27.774271  \n",
       "483   1964-03-11        ilves tampere   38.138261    1964  26.874496  \n",
       "484   1977-01-27    atlanta thrashers   25.256674    1977  25.106333  \n",
       "486   1978-04-29       utah grizzlies   24.005476    1978  25.854639  \n",
       "...          ...                   ...        ...     ...        ...  \n",
       "6187  1991-04-29   frolunda gothenburg  25.007529    1991  25.617284  \n",
       "6188  1993-11-08      stavanger oilers  22.477755    1993  23.719609  \n",
       "6190  1987-03-19    farjestad karlstad  29.119781    1987  24.251278  \n",
       "6191  1992-07-26       rogle angelholm  23.764545    1992  26.315789  \n",
       "6192  1993-08-06        valerenga oslo  22.735113    1993  24.074074  \n",
       "\n",
       "[596 rows x 13 columns]"
      ]
     },
     "execution_count": 5,
     "metadata": {},
     "output_type": "execute_result"
    }
   ],
   "source": [
    "Dup_Players = skand[skand[['name']].duplicated()]  \n",
    "Dup_Players"
   ]
  },
  {
   "cell_type": "code",
   "execution_count": 6,
   "id": "19713320",
   "metadata": {},
   "outputs": [],
   "source": [
    "skand_RM_DUP = skand.drop_duplicates(keep='last', subset = 'name')   # Удалим повторы по имени игрока"
   ]
  },
  {
   "cell_type": "code",
   "execution_count": 7,
   "id": "d6dda278",
   "metadata": {},
   "outputs": [
    {
     "data": {
      "text/plain": [
       "niemi antti-jussi      1\n",
       "korpikoski lauri       1\n",
       "anttila marko          1\n",
       "hagman niklas          1\n",
       "jalasvaara janne       1\n",
       "                      ..\n",
       "jokinen olli           1\n",
       "niemi antti - jussi    1\n",
       "vaananen ossi          1\n",
       "timonen kimmo          1\n",
       "soberg steffen         1\n",
       "Name: name, Length: 430, dtype: int64"
      ]
     },
     "execution_count": 7,
     "metadata": {},
     "output_type": "execute_result"
    }
   ],
   "source": [
    "skand_RM_DUP['name'].value_counts()"
   ]
  },
  {
   "cell_type": "code",
   "execution_count": 10,
   "id": "3be8a18a",
   "metadata": {},
   "outputs": [],
   "source": [
    "NOR = skand_RM_DUP['height'].loc[skand_RM_DUP['country'] == 'NOR']\n",
    "FIN = skand_RM_DUP['height'].loc[skand_RM_DUP['country'] == 'FIN']\n",
    "DEN = skand_RM_DUP['height'].loc[skand_RM_DUP['country'] == 'DEN']\n",
    "y_NOR = np.array(NOR)\n",
    "y_FIN  = np.array(FIN )\n",
    "y_DEN = np.array(DEN)"
   ]
  },
  {
   "cell_type": "markdown",
   "id": "fa863f86",
   "metadata": {},
   "source": [
    "Требуется проверить гипотезу у равенстве среднего роста по каждой стране(отличие роста незначимо). Для проверки этой гипотезы воспользуемся однофакторным дисперсионным анализом."
   ]
  },
  {
   "cell_type": "code",
   "execution_count": 11,
   "id": "b6b1625a",
   "metadata": {},
   "outputs": [
    {
     "data": {
      "text/plain": [
       "(98, 200, 132)"
      ]
     },
     "execution_count": 11,
     "metadata": {},
     "output_type": "execute_result"
    }
   ],
   "source": [
    "n_NOR = y_NOR.shape[0]\n",
    "n_FIN = y_FIN.shape[0]\n",
    "n_DEN = y_DEN.shape[0]\n",
    "\n",
    "n_NOR, n_FIN, n_DEN"
   ]
  },
  {
   "cell_type": "markdown",
   "id": "faeb299d",
   "metadata": {},
   "source": [
    "Выборочные средние по каждой группе:"
   ]
  },
  {
   "cell_type": "code",
   "execution_count": 12,
   "id": "e0729663",
   "metadata": {},
   "outputs": [
    {
     "data": {
      "text/plain": [
       "(182.80612244897958, 184.445, 184.3030303030303)"
      ]
     },
     "execution_count": 12,
     "metadata": {},
     "output_type": "execute_result"
    }
   ],
   "source": [
    "y_NOR_mean = y_NOR.mean()\n",
    "y_FIN_mean = y_FIN.mean()\n",
    "y_DEN_mean = y_DEN.mean()\n",
    "\n",
    "y_NOR_mean, y_FIN_mean, y_DEN_mean"
   ]
  },
  {
   "cell_type": "markdown",
   "id": "7992780c",
   "metadata": {},
   "source": [
    "Видно, что средний рост немного отличается. Проверим статистическую значимость этого отличия.\n",
    "\n",
    "Соберём все значения роста в один массив:"
   ]
  },
  {
   "cell_type": "code",
   "execution_count": 13,
   "id": "86bba59b",
   "metadata": {},
   "outputs": [],
   "source": [
    "y = np.concatenate([y_NOR, y_FIN, y_DEN])"
   ]
  },
  {
   "cell_type": "code",
   "execution_count": 14,
   "id": "53d5ed56",
   "metadata": {},
   "outputs": [
    {
     "data": {
      "text/plain": [
       "184.0279069767442"
      ]
     },
     "execution_count": 14,
     "metadata": {},
     "output_type": "execute_result"
    }
   ],
   "source": [
    "y_mean = y.mean()\n",
    "y_mean"
   ]
  },
  {
   "cell_type": "markdown",
   "id": "7f566cf9",
   "metadata": {},
   "source": [
    "Найдём значения $SS_b$ и $SS_w$:"
   ]
  },
  {
   "cell_type": "code",
   "execution_count": 15,
   "id": "17e40ed8",
   "metadata": {},
   "outputs": [
    {
     "data": {
      "text/plain": [
       "(191.07500186967218, 10922.590114409399)"
      ]
     },
     "execution_count": 15,
     "metadata": {},
     "output_type": "execute_result"
    }
   ],
   "source": [
    "SS_b = n_NOR * (y_NOR_mean - y_mean) ** 2 + n_FIN * (y_FIN_mean - y_mean) ** 2 + n_DEN * (y_DEN_mean - y_mean) ** 2\n",
    "\n",
    "SS_w = ((y_NOR - y_NOR_mean) ** 2).sum() + ((y_FIN - y_FIN_mean) ** 2).sum() + ((y_DEN - y_DEN_mean) ** 2).sum()\n",
    "\n",
    "SS_b, SS_w"
   ]
  },
  {
   "cell_type": "markdown",
   "id": "47caceca",
   "metadata": {},
   "source": [
    "Запишем оценки дисперсий:"
   ]
  },
  {
   "cell_type": "code",
   "execution_count": 16,
   "id": "88ac55ce",
   "metadata": {},
   "outputs": [
    {
     "data": {
      "text/plain": [
       "(95.53750093483609, 25.579836333511473)"
      ]
     },
     "execution_count": 16,
     "metadata": {},
     "output_type": "execute_result"
    }
   ],
   "source": [
    "k = 3\n",
    "n = n_NOR + n_FIN + n_DEN\n",
    "\n",
    "k1 = k - 1\n",
    "k2 = n - k\n",
    "\n",
    "sigma2_b = SS_b / k1\n",
    "sigma2_w = SS_w / k2\n",
    "\n",
    "sigma2_b, sigma2_w"
   ]
  },
  {
   "cell_type": "markdown",
   "id": "d6c2edb7",
   "metadata": {},
   "source": [
    "Итак, значение статистики $F$:"
   ]
  },
  {
   "cell_type": "code",
   "execution_count": 18,
   "id": "5d3f026a",
   "metadata": {},
   "outputs": [
    {
     "data": {
      "text/plain": [
       "3.734875379545526"
      ]
     },
     "execution_count": 18,
     "metadata": {},
     "output_type": "execute_result"
    }
   ],
   "source": [
    "F = sigma2_b / sigma2_w\n",
    "F"
   ]
  },
  {
   "cell_type": "markdown",
   "id": "c90dd7a7",
   "metadata": {},
   "source": [
    "Зафиксируем уровень значимости  $\\alpha = 0.05$ . Для него найдём нужный нам квантиль:"
   ]
  },
  {
   "cell_type": "code",
   "execution_count": 19,
   "id": "b0283487",
   "metadata": {},
   "outputs": [],
   "source": [
    "from scipy import stats"
   ]
  },
  {
   "cell_type": "code",
   "execution_count": 20,
   "id": "adc5a047",
   "metadata": {},
   "outputs": [
    {
     "data": {
      "text/plain": [
       "3.0168482792459144"
      ]
     },
     "execution_count": 20,
     "metadata": {},
     "output_type": "execute_result"
    }
   ],
   "source": [
    "alpha = 0.05\n",
    "\n",
    "t = stats.f.ppf(1 - alpha, k1, k2)\n",
    "t"
   ]
  },
  {
   "cell_type": "markdown",
   "id": "cbb88d30",
   "metadata": {},
   "source": [
    "Итак, наша критическая область имеет вид:\n",
    "$$\\Omega_\\alpha = \\left( 3.01, \\infty \\right)$$"
   ]
  },
  {
   "cell_type": "markdown",
   "id": "40154242",
   "metadata": {},
   "source": [
    "Значение статистики попало в критическую область, поэтому заключаем, что __отличие среднего роста действительно является статистически значимым__"
   ]
  },
  {
   "cell_type": "code",
   "execution_count": 22,
   "id": "e9d55cc2",
   "metadata": {},
   "outputs": [
    {
     "data": {
      "text/plain": [
       "F_onewayResult(statistic=3.734875379545475, pvalue=0.024659740563714175)"
      ]
     },
     "execution_count": 22,
     "metadata": {},
     "output_type": "execute_result"
    }
   ],
   "source": [
    "stats.f_oneway(y_NOR, y_FIN, y_DEN)"
   ]
  },
  {
   "cell_type": "markdown",
   "id": "2cae4c3b",
   "metadata": {},
   "source": [
    "__Ответ__: 1"
   ]
  },
  {
   "cell_type": "markdown",
   "id": "e4ec8fbe",
   "metadata": {},
   "source": [
    "__б)__ Проверим гипотезу у равенстве BMI по каждой стране(отличие BMI незначимо). Для проверки этой гипотезы воспользуемся однофакторным дисперсионным анализом."
   ]
  },
  {
   "cell_type": "code",
   "execution_count": 24,
   "id": "bdca6d72",
   "metadata": {},
   "outputs": [],
   "source": [
    "NOR = skand_RM_DUP['bmi'].loc[skand_RM_DUP['country'] == 'NOR']\n",
    "FIN = skand_RM_DUP['bmi'].loc[skand_RM_DUP['country'] == 'FIN']\n",
    "DEN = skand_RM_DUP['bmi'].loc[skand_RM_DUP['country'] == 'DEN']\n",
    "y_NOR = np.array(NOR)\n",
    "y_FIN  = np.array(FIN )\n",
    "y_DEN = np.array(DEN)"
   ]
  },
  {
   "cell_type": "code",
   "execution_count": 25,
   "id": "6735f23f",
   "metadata": {},
   "outputs": [
    {
     "data": {
      "text/plain": [
       "(98, 200, 132)"
      ]
     },
     "execution_count": 25,
     "metadata": {},
     "output_type": "execute_result"
    }
   ],
   "source": [
    "n_NOR = y_NOR.shape[0]\n",
    "n_FIN = y_FIN.shape[0]\n",
    "n_DEN = y_DEN.shape[0]\n",
    "\n",
    "n_NOR, n_FIN, n_DEN"
   ]
  },
  {
   "cell_type": "code",
   "execution_count": 26,
   "id": "016e55fd",
   "metadata": {},
   "outputs": [
    {
     "data": {
      "text/plain": [
       "(25.84454256708044, 25.948082381435807, 25.437554156321017)"
      ]
     },
     "execution_count": 26,
     "metadata": {},
     "output_type": "execute_result"
    }
   ],
   "source": [
    "y_NOR_mean = y_NOR.mean()\n",
    "y_FIN_mean = y_FIN.mean()\n",
    "y_DEN_mean = y_DEN.mean()\n",
    "\n",
    "y_NOR_mean, y_FIN_mean, y_DEN_mean"
   ]
  },
  {
   "cell_type": "markdown",
   "id": "bace8b46",
   "metadata": {},
   "source": [
    "Видно, что средний bmi немного отличается. Проверим статистическую значимость этого отличия.\n",
    "\n",
    "Соберём все значения bmi в один массив:"
   ]
  },
  {
   "cell_type": "code",
   "execution_count": 28,
   "id": "cc51d08f",
   "metadata": {},
   "outputs": [],
   "source": [
    "y = np.concatenate([y_NOR, y_FIN, y_DEN])"
   ]
  },
  {
   "cell_type": "code",
   "execution_count": 29,
   "id": "0058b76b",
   "metadata": {},
   "outputs": [
    {
     "data": {
      "text/plain": [
       "25.767764643012605"
      ]
     },
     "execution_count": 29,
     "metadata": {},
     "output_type": "execute_result"
    }
   ],
   "source": [
    "y_mean = y.mean()\n",
    "y_mean"
   ]
  },
  {
   "cell_type": "markdown",
   "id": "0b2dc382",
   "metadata": {},
   "source": [
    "Найдём значения $SS_b$ и $SS_w$:"
   ]
  },
  {
   "cell_type": "code",
   "execution_count": 30,
   "id": "47dfb6d0",
   "metadata": {},
   "outputs": [
    {
     "data": {
      "text/plain": [
       "(21.473736069964502, 828.6119113476543)"
      ]
     },
     "execution_count": 30,
     "metadata": {},
     "output_type": "execute_result"
    }
   ],
   "source": [
    "SS_b = n_NOR * (y_NOR_mean - y_mean) ** 2 + n_FIN * (y_FIN_mean - y_mean) ** 2 + n_DEN * (y_DEN_mean - y_mean) ** 2\n",
    "\n",
    "SS_w = ((y_NOR - y_NOR_mean) ** 2).sum() + ((y_FIN - y_FIN_mean) ** 2).sum() + ((y_DEN - y_DEN_mean) ** 2).sum()\n",
    "\n",
    "SS_b, SS_w"
   ]
  },
  {
   "cell_type": "markdown",
   "id": "694090ab",
   "metadata": {},
   "source": [
    "Запишем оценки дисперсий:"
   ]
  },
  {
   "cell_type": "code",
   "execution_count": 31,
   "id": "68d3e73e",
   "metadata": {},
   "outputs": [
    {
     "data": {
      "text/plain": [
       "(10.736868034982251, 1.9405431179101975)"
      ]
     },
     "execution_count": 31,
     "metadata": {},
     "output_type": "execute_result"
    }
   ],
   "source": [
    "k = 3\n",
    "n = n_NOR + n_FIN + n_DEN\n",
    "\n",
    "k1 = k - 1\n",
    "k2 = n - k\n",
    "\n",
    "sigma2_b = SS_b / k1\n",
    "sigma2_w = SS_w / k2\n",
    "\n",
    "sigma2_b, sigma2_w"
   ]
  },
  {
   "cell_type": "markdown",
   "id": "763d246b",
   "metadata": {},
   "source": [
    "Итак, значение статистики $F$:"
   ]
  },
  {
   "cell_type": "code",
   "execution_count": 32,
   "id": "917cb93e",
   "metadata": {},
   "outputs": [
    {
     "data": {
      "text/plain": [
       "5.532919076049678"
      ]
     },
     "execution_count": 32,
     "metadata": {},
     "output_type": "execute_result"
    }
   ],
   "source": [
    "F = sigma2_b / sigma2_w\n",
    "F"
   ]
  },
  {
   "cell_type": "markdown",
   "id": "f616c314",
   "metadata": {},
   "source": [
    "Зафиксируем уровень значимости  $\\alpha = 0.05$ . Для него найдём нужный нам квантиль:"
   ]
  },
  {
   "cell_type": "code",
   "execution_count": 33,
   "id": "e7c61811",
   "metadata": {},
   "outputs": [
    {
     "data": {
      "text/plain": [
       "3.0168482792459144"
      ]
     },
     "execution_count": 33,
     "metadata": {},
     "output_type": "execute_result"
    }
   ],
   "source": [
    "alpha = 0.05\n",
    "\n",
    "t = stats.f.ppf(1 - alpha, k1, k2)\n",
    "t"
   ]
  },
  {
   "cell_type": "markdown",
   "id": "6f6fb88e",
   "metadata": {},
   "source": [
    "Итак, наша критическая область имеет вид:\n",
    "$$\\Omega_\\alpha = \\left( 3.01, \\infty \\right)$$"
   ]
  },
  {
   "cell_type": "markdown",
   "id": "a1047a70",
   "metadata": {},
   "source": [
    "Значение статистики попало в критическую область, поэтому заключаем, что __bmi действительно является статистически значимым__"
   ]
  },
  {
   "cell_type": "code",
   "execution_count": 35,
   "id": "6306007b",
   "metadata": {},
   "outputs": [
    {
     "data": {
      "text/plain": [
       "F_onewayResult(statistic=5.532919076049785, pvalue=0.004243187723739065)"
      ]
     },
     "execution_count": 35,
     "metadata": {},
     "output_type": "execute_result"
    }
   ],
   "source": [
    "stats.f_oneway(y_NOR, y_FIN, y_DEN)"
   ]
  },
  {
   "cell_type": "markdown",
   "id": "6ffcbf60",
   "metadata": {},
   "source": [
    "__Ответ__: 1"
   ]
  },
  {
   "cell_type": "code",
   "execution_count": null,
   "id": "44d6a511",
   "metadata": {},
   "outputs": [],
   "source": []
  }
 ],
 "metadata": {
  "kernelspec": {
   "display_name": "Python 3 (ipykernel)",
   "language": "python",
   "name": "python3"
  },
  "language_info": {
   "codemirror_mode": {
    "name": "ipython",
    "version": 3
   },
   "file_extension": ".py",
   "mimetype": "text/x-python",
   "name": "python",
   "nbconvert_exporter": "python",
   "pygments_lexer": "ipython3",
   "version": "3.9.7"
  }
 },
 "nbformat": 4,
 "nbformat_minor": 5
}
