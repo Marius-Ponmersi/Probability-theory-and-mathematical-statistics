{
 "cells": [
  {
   "cell_type": "markdown",
   "id": "e70a0506",
   "metadata": {},
   "source": [
    "## Дискретные случайные величины. Закон распределения вероятностей. Биноминальный закон распределения. Распределение Пуассона"
   ]
  },
  {
   "cell_type": "markdown",
   "id": "d8f30a28",
   "metadata": {},
   "source": [
    "### Задачи 1 и 2"
   ]
  },
  {
   "cell_type": "markdown",
   "id": "28fb6f88",
   "metadata": {},
   "source": [
    "Контрольная работа состоит из пяти вопросов. На каждый вопрос приведено четыре варианта ответа, один из которых правильный. Случайная величина X задаёт число правильных ответов при простом угадывании. Найдите математическое ожидание данной случайной величины. Найдите дисперсию случайной величины X.\n",
    "\n",
    "Подсказка: постройте закон распределения случайной величины X."
   ]
  },
  {
   "cell_type": "code",
   "execution_count": 1,
   "id": "17344e77",
   "metadata": {},
   "outputs": [],
   "source": [
    "import numpy as np\n",
    "from numpy import math"
   ]
  },
  {
   "cell_type": "code",
   "execution_count": 2,
   "id": "8810ebb3",
   "metadata": {},
   "outputs": [],
   "source": [
    "def ber(k: int, n: int, p: float):\n",
    "    '''Формула Бернулли\n",
    "    k - количество правильных ответов\n",
    "    n - количество вопросов\n",
    "    p - вероятность угадать правильный ответ\n",
    "    '''\n",
    "    return (math.factorial(n)/(math.factorial(k)*math.factorial(n-k))) * (p**k) * (1-p)**(n-k)"
   ]
  },
  {
   "cell_type": "markdown",
   "id": "f965dd11",
   "metadata": {},
   "source": [
    "Случайная величина здесь принимает хначения от 0 до 5"
   ]
  },
  {
   "cell_type": "code",
   "execution_count": 3,
   "id": "266aadbd",
   "metadata": {},
   "outputs": [
    {
     "data": {
      "text/plain": [
       "array([0, 1, 2, 3, 4, 5])"
      ]
     },
     "execution_count": 3,
     "metadata": {},
     "output_type": "execute_result"
    }
   ],
   "source": [
    "X = np.arange(0,6)\n",
    "X"
   ]
  },
  {
   "cell_type": "code",
   "execution_count": 4,
   "id": "d4d5ac48",
   "metadata": {},
   "outputs": [],
   "source": [
    "p = 1/4 #вероятность угадать"
   ]
  },
  {
   "cell_type": "code",
   "execution_count": 5,
   "id": "10f63ebf",
   "metadata": {},
   "outputs": [],
   "source": [
    "n = 5 #количество вопросов"
   ]
  },
  {
   "cell_type": "code",
   "execution_count": 6,
   "id": "58e5f4dd",
   "metadata": {},
   "outputs": [
    {
     "data": {
      "text/plain": [
       "[0.2373046875,\n",
       " 0.3955078125,\n",
       " 0.263671875,\n",
       " 0.087890625,\n",
       " 0.0146484375,\n",
       " 0.0009765625]"
      ]
     },
     "execution_count": 6,
     "metadata": {},
     "output_type": "execute_result"
    }
   ],
   "source": [
    "probabilities_x = [ber(i, n=n, p=p) for i in range(6)]\n",
    "probabilities_x"
   ]
  },
  {
   "cell_type": "code",
   "execution_count": 7,
   "id": "c1ccaf23",
   "metadata": {},
   "outputs": [
    {
     "data": {
      "text/plain": [
       "1.25"
      ]
     },
     "execution_count": 7,
     "metadata": {},
     "output_type": "execute_result"
    }
   ],
   "source": [
    "M = sum(X * probabilities_x)\n",
    "M"
   ]
  },
  {
   "cell_type": "code",
   "execution_count": 8,
   "id": "39a25b72",
   "metadata": {},
   "outputs": [
    {
     "data": {
      "text/plain": [
       "1.25"
      ]
     },
     "execution_count": 8,
     "metadata": {},
     "output_type": "execute_result"
    }
   ],
   "source": [
    "M = n * p\n",
    "M"
   ]
  },
  {
   "cell_type": "code",
   "execution_count": 9,
   "id": "c58c68ca",
   "metadata": {},
   "outputs": [
    {
     "data": {
      "text/plain": [
       "0.9375"
      ]
     },
     "execution_count": 9,
     "metadata": {},
     "output_type": "execute_result"
    }
   ],
   "source": [
    "D = n * p * (1 - p)\n",
    "D"
   ]
  },
  {
   "cell_type": "code",
   "execution_count": 10,
   "id": "fc156bba",
   "metadata": {},
   "outputs": [
    {
     "data": {
      "text/plain": [
       "0.9375"
      ]
     },
     "execution_count": 10,
     "metadata": {},
     "output_type": "execute_result"
    }
   ],
   "source": [
    "D = sum(((X - M)**2) * probabilities_x)\n",
    "D"
   ]
  },
  {
   "cell_type": "markdown",
   "id": "61572e2b",
   "metadata": {},
   "source": [
    "### Задача 3"
   ]
  },
  {
   "cell_type": "markdown",
   "id": "1bc0aaf0",
   "metadata": {},
   "source": [
    "Пользователь получает в среднем 10 писем со спамом на свой почтовый ящик за сутки. Найти число N, такое, что с вероятностью 0.95 пользователь получит не более N писем со спамом за текущий день."
   ]
  },
  {
   "cell_type": "code",
   "execution_count": 11,
   "id": "c399fd4d",
   "metadata": {},
   "outputs": [],
   "source": [
    "h = 10"
   ]
  },
  {
   "cell_type": "code",
   "execution_count": 12,
   "id": "f19ffc33",
   "metadata": {},
   "outputs": [],
   "source": [
    "def pu(h, k):\n",
    "    '''Формула Пуассона\n",
    "    h - lambda - интенсивность\n",
    "    k - значение случайной величины\n",
    "    '''\n",
    "    return (h**k) * (math.e**(-h)) / math.factorial(k)"
   ]
  },
  {
   "cell_type": "markdown",
   "id": "c6832f2c",
   "metadata": {},
   "source": [
    "Чтобы найти N, нужно решить уравнение: 0,95 = sum(pu(h, i) for i in range(0, N + 1))"
   ]
  },
  {
   "cell_type": "code",
   "execution_count": 13,
   "id": "3e0ed2f2",
   "metadata": {},
   "outputs": [],
   "source": [
    "N = 0"
   ]
  },
  {
   "cell_type": "code",
   "execution_count": 14,
   "id": "f7b9226d",
   "metadata": {},
   "outputs": [],
   "source": [
    "pu_N = []"
   ]
  },
  {
   "cell_type": "code",
   "execution_count": 15,
   "id": "61d96b0c",
   "metadata": {},
   "outputs": [
    {
     "name": "stdout",
     "output_type": "stream",
     "text": [
      "Ответ: N=15\n"
     ]
    }
   ],
   "source": [
    "for N in range(1000):\n",
    "    pu_N.append(pu(h=h, k=N))\n",
    "    if sum(pu_N) >= 0.95:\n",
    "        print(f'Ответ: N={N}')\n",
    "        break"
   ]
  },
  {
   "cell_type": "markdown",
   "id": "d709088e",
   "metadata": {},
   "source": [
    "Проверка:"
   ]
  },
  {
   "cell_type": "code",
   "execution_count": 16,
   "id": "afc9a555",
   "metadata": {},
   "outputs": [
    {
     "data": {
      "text/plain": [
       "0.9512595966960216"
      ]
     },
     "execution_count": 16,
     "metadata": {},
     "output_type": "execute_result"
    }
   ],
   "source": [
    "sum(pu_N)"
   ]
  },
  {
   "cell_type": "code",
   "execution_count": 17,
   "id": "553b85d1",
   "metadata": {},
   "outputs": [
    {
     "data": {
      "text/plain": [
       "0.9512595966960216"
      ]
     },
     "execution_count": 17,
     "metadata": {},
     "output_type": "execute_result"
    }
   ],
   "source": [
    "sum(pu(h=h, k=i) for i in range(16))"
   ]
  },
  {
   "cell_type": "code",
   "execution_count": 18,
   "id": "438a7488",
   "metadata": {},
   "outputs": [
    {
     "data": {
      "text/plain": [
       "0.9165415270653374"
      ]
     },
     "execution_count": 18,
     "metadata": {},
     "output_type": "execute_result"
    }
   ],
   "source": [
    "sum(pu(h=h, k=i) for i in range(15))"
   ]
  },
  {
   "cell_type": "code",
   "execution_count": 19,
   "id": "fba15d73",
   "metadata": {},
   "outputs": [
    {
     "data": {
      "text/plain": [
       "0.9729583902151991"
      ]
     },
     "execution_count": 19,
     "metadata": {},
     "output_type": "execute_result"
    }
   ],
   "source": [
    "sum(pu(h=h, k=i) for i in range(17))"
   ]
  },
  {
   "cell_type": "markdown",
   "id": "9735e631",
   "metadata": {},
   "source": [
    "### Задача 4"
   ]
  },
  {
   "cell_type": "markdown",
   "id": "493375b5",
   "metadata": {},
   "source": [
    "Производятся выстрелы по мишени. Вероятность попадания в мишень при одном выстреле равна 0.01. Сколько выстрелов нужно сделать чтобы быть уверенным с вероятностью 0.9, что хотя бы 6 раз будет совершено попадание?\n",
    "\n",
    "Подсказка: 1) \"Вероятность попасть k раз при n выстрелах\" - на какое распределение это похоже? 2) А если нам нужна вероятность P(X >= k), а не P(X = k)? 3) Здесь предстоит немножко покодить."
   ]
  },
  {
   "cell_type": "markdown",
   "id": "e6178706",
   "metadata": {},
   "source": [
    "Чтобы найти n нужно решить уравнение: 0.9 = 1 - sum(ber(k=i, n=n, p=p) for i in range(6))"
   ]
  },
  {
   "cell_type": "markdown",
   "id": "8782ef4a",
   "metadata": {},
   "source": [
    "sum(ber(k=i, n=n, p=p) for i in range(6)) = 0.1"
   ]
  },
  {
   "cell_type": "code",
   "execution_count": 20,
   "id": "45dd8488",
   "metadata": {},
   "outputs": [],
   "source": [
    "p = 0.01"
   ]
  },
  {
   "cell_type": "code",
   "execution_count": 21,
   "id": "c8e2f444",
   "metadata": {},
   "outputs": [],
   "source": [
    "pn_massive = [] #вероятность при "
   ]
  },
  {
   "cell_type": "code",
   "execution_count": 22,
   "id": "e3ab32de",
   "metadata": {},
   "outputs": [
    {
     "name": "stdout",
     "output_type": "stream",
     "text": [
      "Ответ: n=926\n"
     ]
    }
   ],
   "source": [
    "for n in range(6, 10000):\n",
    "    pn_massive.append(sum(ber(k=i, n=n, p=p) for i in range(6)))\n",
    "    if pn_massive[n-6] <= 0.1:\n",
    "        print(f'Ответ: n={n}')\n",
    "        break"
   ]
  },
  {
   "cell_type": "markdown",
   "id": "aa6f9db5",
   "metadata": {},
   "source": [
    "Проверка:"
   ]
  },
  {
   "cell_type": "code",
   "execution_count": 23,
   "id": "c6337759",
   "metadata": {},
   "outputs": [
    {
     "data": {
      "text/plain": [
       "0.9003627121531355"
      ]
     },
     "execution_count": 23,
     "metadata": {},
     "output_type": "execute_result"
    }
   ],
   "source": [
    "1 - sum(ber(k=i, n=926, p=p) for i in range(6))"
   ]
  },
  {
   "cell_type": "code",
   "execution_count": null,
   "id": "3e18698f",
   "metadata": {},
   "outputs": [],
   "source": []
  }
 ],
 "metadata": {
  "kernelspec": {
   "display_name": "Python 3",
   "language": "python",
   "name": "python3"
  },
  "language_info": {
   "codemirror_mode": {
    "name": "ipython",
    "version": 3
   },
   "file_extension": ".py",
   "mimetype": "text/x-python",
   "name": "python",
   "nbconvert_exporter": "python",
   "pygments_lexer": "ipython3",
   "version": "3.8.8"
  }
 },
 "nbformat": 4,
 "nbformat_minor": 5
}
