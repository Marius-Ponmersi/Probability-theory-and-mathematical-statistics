{
 "cells": [
  {
   "cell_type": "markdown",
   "id": "e08f8e52",
   "metadata": {},
   "source": [
    "## Проверка статистических гипотез. P-значения. Доверительные интервалы"
   ]
  },
  {
   "cell_type": "markdown",
   "id": "6b2cea88",
   "metadata": {},
   "source": [
    "### Домашнее задание\n",
    "\n",
    "В поле ответа впишите одно число. Нецелые числа следует округлить до 8 знаков после запятой."
   ]
  },
  {
   "cell_type": "markdown",
   "id": "7e4cfb52",
   "metadata": {},
   "source": [
    "__Задача 1__\n",
    "\n",
    "Известно, что генеральная совокупность распределена нормально с известным средним квадратическим отклонением 16. Найти ширину доверительного интервала для оценки математического ожидания `mu` с надёжностью 0.95, если выборочное среднее равно 80, а объём выборки равен 256."
   ]
  },
  {
   "cell_type": "code",
   "execution_count": 6,
   "id": "600c1bae",
   "metadata": {},
   "outputs": [],
   "source": [
    "from scipy import stats"
   ]
  },
  {
   "cell_type": "code",
   "execution_count": 1,
   "id": "2f9299a7",
   "metadata": {},
   "outputs": [],
   "source": [
    "std = 16   #среднее квадратичное отклонение"
   ]
  },
  {
   "cell_type": "code",
   "execution_count": 3,
   "id": "eafb0563",
   "metadata": {},
   "outputs": [],
   "source": [
    "p = 0.95   #доверительная вероятность"
   ]
  },
  {
   "cell_type": "code",
   "execution_count": 4,
   "id": "1f098804",
   "metadata": {},
   "outputs": [],
   "source": [
    "Xm = 80   #выборочное среднее"
   ]
  },
  {
   "cell_type": "code",
   "execution_count": 5,
   "id": "1dcb630e",
   "metadata": {},
   "outputs": [],
   "source": [
    "n = 256   #объём выборки"
   ]
  },
  {
   "cell_type": "code",
   "execution_count": 7,
   "id": "be59be0f",
   "metadata": {},
   "outputs": [
    {
     "data": {
      "text/plain": [
       "0.050000000000000044"
      ]
     },
     "execution_count": 7,
     "metadata": {},
     "output_type": "execute_result"
    }
   ],
   "source": [
    "alpha = 1 - p\n",
    "alpha   #уровень значимости"
   ]
  },
  {
   "cell_type": "code",
   "execution_count": 8,
   "id": "ef4e917f",
   "metadata": {},
   "outputs": [
    {
     "data": {
      "text/plain": [
       "(-1.959963984540054, 1.959963984540054)"
      ]
     },
     "execution_count": 8,
     "metadata": {},
     "output_type": "execute_result"
    }
   ],
   "source": [
    "t1 = stats.norm.ppf(alpha/2)\n",
    "t2 = stats.norm.ppf(1 - alpha/2)\n",
    "t1, t2"
   ]
  },
  {
   "cell_type": "code",
   "execution_count": 10,
   "id": "9a0b598a",
   "metadata": {},
   "outputs": [
    {
     "data": {
      "text/plain": [
       "(78.04003601545995, 81.95996398454005)"
      ]
     },
     "execution_count": 10,
     "metadata": {},
     "output_type": "execute_result"
    }
   ],
   "source": [
    "conf_interval = (Xm + t1 * std / (n ** (1 / 2)), Xm + t2 * std / (n ** (1 / 2)))\n",
    "conf_interval   # доверительный интервал"
   ]
  },
  {
   "cell_type": "code",
   "execution_count": 14,
   "id": "f5a509fc",
   "metadata": {},
   "outputs": [
    {
     "data": {
      "text/plain": [
       "'Ответ: ширина доверительного интервала: 3.91992797'"
      ]
     },
     "execution_count": 14,
     "metadata": {},
     "output_type": "execute_result"
    }
   ],
   "source": [
    "left, right = conf_interval\n",
    "f\"Ответ: ширина доверительного интервала: {round(right - left, 8)}\""
   ]
  },
  {
   "cell_type": "markdown",
   "id": "e23a967d",
   "metadata": {},
   "source": [
    "__Задача 2__\n",
    "\n",
    "Продавец утверждает, что средний вес пачки печенья составляет 200 г. Из партии извлечена выборка из 10 пачек. Вес каждой пачки составляет:\n",
    "```\n",
    "202, 203, 199, 197, 195, 201, 200, 204, 194, 190\n",
    "```\n",
    "Известно, что их веса распределены нормально. Верно ли утверждение продавца, если учитывать, что уровень значимости равен 1%? Найдите P-значение для данного теста и укажите его в качестве ответа."
   ]
  },
  {
   "cell_type": "code",
   "execution_count": 23,
   "id": "3c893fbe",
   "metadata": {},
   "outputs": [],
   "source": [
    "import numpy as np"
   ]
  },
  {
   "cell_type": "code",
   "execution_count": 38,
   "id": "a5a335bb",
   "metadata": {},
   "outputs": [],
   "source": [
    "samples = np.array([202, 203, 199, 197, 195, 201, 200, 204, 194, 190])"
   ]
  },
  {
   "cell_type": "code",
   "execution_count": 39,
   "id": "13450666",
   "metadata": {},
   "outputs": [],
   "source": [
    "n = 10   #размер выборки"
   ]
  },
  {
   "cell_type": "code",
   "execution_count": 50,
   "id": "13c0a866",
   "metadata": {},
   "outputs": [],
   "source": [
    "M = 200"
   ]
  },
  {
   "cell_type": "code",
   "execution_count": 51,
   "id": "3dd5b375",
   "metadata": {},
   "outputs": [
    {
     "data": {
      "text/plain": [
       "198.5"
      ]
     },
     "execution_count": 51,
     "metadata": {},
     "output_type": "execute_result"
    }
   ],
   "source": [
    "samples.mean()"
   ]
  },
  {
   "cell_type": "code",
   "execution_count": 52,
   "id": "4af5b02f",
   "metadata": {},
   "outputs": [
    {
     "data": {
      "text/plain": [
       "4.453463071962462"
      ]
     },
     "execution_count": 52,
     "metadata": {},
     "output_type": "execute_result"
    }
   ],
   "source": [
    "samples.std(ddof=1) "
   ]
  },
  {
   "cell_type": "code",
   "execution_count": 53,
   "id": "801e080c",
   "metadata": {},
   "outputs": [
    {
     "data": {
      "text/plain": [
       "3.1622776601683795"
      ]
     },
     "execution_count": 53,
     "metadata": {},
     "output_type": "execute_result"
    }
   ],
   "source": [
    "np.sqrt(samples.shape[0])"
   ]
  },
  {
   "cell_type": "code",
   "execution_count": 54,
   "id": "4af5565d",
   "metadata": {},
   "outputs": [
    {
     "data": {
      "text/plain": [
       "-1.0651074037450896"
      ]
     },
     "execution_count": 54,
     "metadata": {},
     "output_type": "execute_result"
    }
   ],
   "source": [
    "S = (samples.mean() - M) / (samples.std(ddof=1) / np.sqrt(samples.shape[0]))\n",
    "S   #статистика для оценки мат. ожидания нормального распределения"
   ]
  },
  {
   "cell_type": "code",
   "execution_count": 62,
   "id": "8ada6ddc",
   "metadata": {},
   "outputs": [
    {
     "name": "stdout",
     "output_type": "stream",
     "text": [
      "alpha\tresult\n",
      "--------------\n",
      "0.0 \t True\n",
      "0.0208 \t True\n",
      "0.0417 \t True\n",
      "0.0625 \t True\n",
      "0.0833 \t True\n",
      "0.1042 \t True\n",
      "0.125 \t True\n",
      "0.1458 \t True\n",
      "0.1667 \t True\n",
      "0.1875 \t True\n",
      "0.2083 \t True\n",
      "0.2292 \t True\n",
      "0.25 \t True\n",
      "0.2708 \t True\n",
      "0.2917 \t True\n",
      "0.3125 \t True\n",
      "0.3333 \t False\n",
      "0.3542 \t False\n",
      "0.375 \t False\n",
      "0.3958 \t False\n",
      "0.4167 \t False\n",
      "0.4375 \t False\n",
      "0.4583 \t False\n",
      "0.4792 \t False\n",
      "0.5 \t False\n"
     ]
    }
   ],
   "source": [
    "print('alpha\\tresult')\n",
    "print('--------------')\n",
    "\n",
    "for alpha in np.linspace(0, 0.50, 25):\n",
    "    t1 = stats.t.ppf(alpha/2, df = n - 1)\n",
    "    t2 = stats.t.ppf(1 - alpha/2, df = n - 1)\n",
    "    print(round(alpha, 4), '\\t', t1 <= S <= t2)"
   ]
  },
  {
   "cell_type": "code",
   "execution_count": 35,
   "id": "c212efbf",
   "metadata": {},
   "outputs": [
    {
     "data": {
      "text/plain": [
       "Ttest_1sampResult(statistic=-1.0651074037450896, pvalue=0.31456660352472854)"
      ]
     },
     "execution_count": 35,
     "metadata": {},
     "output_type": "execute_result"
    }
   ],
   "source": [
    "stats.ttest_1samp(samples, popmean=200)"
   ]
  },
  {
   "cell_type": "code",
   "execution_count": 67,
   "id": "f99602a3",
   "metadata": {},
   "outputs": [
    {
     "data": {
      "text/plain": [
       "'Ответ: pvalue = 0.3145666'"
      ]
     },
     "execution_count": 67,
     "metadata": {},
     "output_type": "execute_result"
    }
   ],
   "source": [
    "f'Ответ: pvalue = {round(0.31456660352472854, 8)}'"
   ]
  },
  {
   "cell_type": "markdown",
   "id": "2d1fc16d",
   "metadata": {},
   "source": [
    "__Задача 3__\n",
    "\n",
    "Дана выборка диаметров подшипников из примера 1 с занятия 5:\n",
    "```\n",
    "samples = [0.6603, 0.9466, 0.5968, 1.3792, 1.5481, 0.7515, 1.0681, 1.1134,\n",
    "           1.2088, 1.701 , 1.0282, 1.3579, 1.0191, 1.1784, 1.1168, 1.1372,\n",
    "           0.7273, 1.3958, 0.8665, 1.5112, 1.161 , 1.0232, 1.0865, 1.02  ]\n",
    "```\n",
    "Предполагая, что диаметры подшипников распределены нормально, проверьте гипотезу о том, что дисперсия случайной величины равна `0.0625` при уровне значимости `alpha = 0.05`. Что для этого нужно знать:\n",
    "1. Альтернативная гипотеза двухсторонняя.\n",
    "2. Статистика для теста: `H = (n - 1) * sample_variance / variance`, где `n` - число элементов в выборке, `sample_variance` - несмещённая оценка дисперсии, `variance` - утверждаемая нулевой гипотезой дисперсия.\n",
    "3. Эта статистика в предположении верности нулевой гипотезы имеет распределение хи-квадрат с параметром `df = n - 1`. Её квантили можно найти с помощью функции `scipy.stats.chi2.ppf`.\n",
    "\n",
    "В качестве ответа запишите 1, если нулевая гипотеза верна, и 0 иначе."
   ]
  },
  {
   "cell_type": "code",
   "execution_count": 64,
   "id": "b1baff9d",
   "metadata": {},
   "outputs": [],
   "source": [
    "samples = np.array([0.6603, 0.9466, 0.5968, 1.3792, 1.5481, 0.7515, 1.0681, 1.1134,\n",
    "           1.2088, 1.701 , 1.0282, 1.3579, 1.0191, 1.1784, 1.1168, 1.1372,\n",
    "           0.7273, 1.3958, 0.8665, 1.5112, 1.161 , 1.0232, 1.0865, 1.02 ])"
   ]
  },
  {
   "cell_type": "code",
   "execution_count": 65,
   "id": "1f63e56b",
   "metadata": {},
   "outputs": [],
   "source": [
    "alpha = 0.05"
   ]
  },
  {
   "cell_type": "code",
   "execution_count": 71,
   "id": "35e16450",
   "metadata": {},
   "outputs": [
    {
     "data": {
      "text/plain": [
       "24"
      ]
     },
     "execution_count": 71,
     "metadata": {},
     "output_type": "execute_result"
    }
   ],
   "source": [
    "n = len(samples)\n",
    "n   #число элементов в выборке"
   ]
  },
  {
   "cell_type": "code",
   "execution_count": 69,
   "id": "b9e2cbb7",
   "metadata": {},
   "outputs": [],
   "source": [
    "variance = 0.0625   #утверждаемая нулевой гипотезой дисперсия"
   ]
  },
  {
   "cell_type": "code",
   "execution_count": 68,
   "id": "5f451cfd",
   "metadata": {},
   "outputs": [
    {
     "data": {
      "text/plain": [
       "0.07804495041666669"
      ]
     },
     "execution_count": 68,
     "metadata": {},
     "output_type": "execute_result"
    }
   ],
   "source": [
    "sample_variance = samples.var(ddof=1)\n",
    "sample_variance   #несмещённая оценка дисперсии"
   ]
  },
  {
   "cell_type": "code",
   "execution_count": 76,
   "id": "fd257c1f",
   "metadata": {},
   "outputs": [
    {
     "data": {
      "text/plain": [
       "28.720541753333343"
      ]
     },
     "execution_count": 76,
     "metadata": {},
     "output_type": "execute_result"
    }
   ],
   "source": [
    "H = (n - 1) * sample_variance / variance\n",
    "H   #Статистика для оценки дисперсии"
   ]
  },
  {
   "cell_type": "code",
   "execution_count": 75,
   "id": "9fffc4a4",
   "metadata": {},
   "outputs": [
    {
     "data": {
      "text/plain": [
       "(11.68855192, 38.07562725)"
      ]
     },
     "execution_count": 75,
     "metadata": {},
     "output_type": "execute_result"
    }
   ],
   "source": [
    "t1 = stats.chi2.ppf(alpha/2, df = n - 1)\n",
    "t2 = stats.chi2.ppf(1 - alpha/2, df = n - 1)\n",
    "round(t1, 8), round(t2, 8)"
   ]
  },
  {
   "cell_type": "markdown",
   "id": "1d600830",
   "metadata": {},
   "source": [
    "Критическая область: $$\\Omega_\\alpha = (-\\infty, 11.68855192) \\cup (38.07562725, \\infty)$$"
   ]
  },
  {
   "cell_type": "code",
   "execution_count": 79,
   "id": "a4fa2c8b",
   "metadata": {},
   "outputs": [
    {
     "data": {
      "text/plain": [
       "True"
      ]
     },
     "execution_count": 79,
     "metadata": {},
     "output_type": "execute_result"
    }
   ],
   "source": [
    "t1 < H < t2"
   ]
  },
  {
   "cell_type": "markdown",
   "id": "ca6bf4a1",
   "metadata": {},
   "source": [
    "Статистика не входит в критическую область, значит нулевая гипотеза верна."
   ]
  },
  {
   "cell_type": "markdown",
   "id": "667a6bac",
   "metadata": {},
   "source": [
    "__Ответ__: 1"
   ]
  },
  {
   "cell_type": "code",
   "execution_count": null,
   "id": "b03a7052",
   "metadata": {},
   "outputs": [],
   "source": []
  }
 ],
 "metadata": {
  "kernelspec": {
   "display_name": "Python 3 (ipykernel)",
   "language": "python",
   "name": "python3"
  },
  "language_info": {
   "codemirror_mode": {
    "name": "ipython",
    "version": 3
   },
   "file_extension": ".py",
   "mimetype": "text/x-python",
   "name": "python",
   "nbconvert_exporter": "python",
   "pygments_lexer": "ipython3",
   "version": "3.9.7"
  }
 },
 "nbformat": 4,
 "nbformat_minor": 5
}
