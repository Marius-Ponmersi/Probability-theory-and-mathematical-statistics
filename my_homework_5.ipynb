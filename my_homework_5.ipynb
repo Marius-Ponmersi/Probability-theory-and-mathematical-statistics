{
 "cells": [
  {
   "cell_type": "markdown",
   "id": "8e5ecef8",
   "metadata": {},
   "source": [
    "## Проверка статистических гипотез. P-значения. Доверительные интервалы"
   ]
  },
  {
   "cell_type": "markdown",
   "id": "9f561efa",
   "metadata": {},
   "source": [
    "### Домашнее задание\n",
    "\n",
    "В поле ответа впишите одно число. Нецелые числа следует округлить до 8 знаков после запятой."
   ]
  },
  {
   "cell_type": "markdown",
   "id": "18f41e1d",
   "metadata": {},
   "source": [
    "__Задача 1__\n",
    "\n",
    "Известно, что генеральная совокупность распределена нормально с известным средним квадратическим отклонением 16. Найти ширину доверительного интервала для оценки математического ожидания `mu` с надёжностью 0.95, если выборочное среднее равно 80, а объём выборки равен 256."
   ]
  },
  {
   "cell_type": "code",
   "execution_count": 6,
   "id": "5e23bb80",
   "metadata": {},
   "outputs": [],
   "source": [
    "from scipy import stats"
   ]
  },
  {
   "cell_type": "code",
   "execution_count": 1,
   "id": "861635b9",
   "metadata": {},
   "outputs": [],
   "source": [
    "std = 16   #среднее квадратичное отклонение"
   ]
  },
  {
   "cell_type": "code",
   "execution_count": 3,
   "id": "8c68b88c",
   "metadata": {},
   "outputs": [],
   "source": [
    "p = 0.95   #доверительная вероятность"
   ]
  },
  {
   "cell_type": "code",
   "execution_count": 4,
   "id": "369377d8",
   "metadata": {},
   "outputs": [],
   "source": [
    "Xm = 80   #выборочное среднее"
   ]
  },
  {
   "cell_type": "code",
   "execution_count": 5,
   "id": "f1faca05",
   "metadata": {},
   "outputs": [],
   "source": [
    "n = 256   #объём выборки"
   ]
  },
  {
   "cell_type": "code",
   "execution_count": 7,
   "id": "06b428df",
   "metadata": {},
   "outputs": [
    {
     "data": {
      "text/plain": [
       "0.050000000000000044"
      ]
     },
     "execution_count": 7,
     "metadata": {},
     "output_type": "execute_result"
    }
   ],
   "source": [
    "alpha = 1 - p\n",
    "alpha   #уровень значимости"
   ]
  },
  {
   "cell_type": "code",
   "execution_count": 8,
   "id": "bfaa741f",
   "metadata": {},
   "outputs": [
    {
     "data": {
      "text/plain": [
       "(-1.959963984540054, 1.959963984540054)"
      ]
     },
     "execution_count": 8,
     "metadata": {},
     "output_type": "execute_result"
    }
   ],
   "source": [
    "t1 = stats.norm.ppf(alpha/2)\n",
    "t2 = stats.norm.ppf(1 - alpha/2)\n",
    "t1, t2"
   ]
  },
  {
   "cell_type": "code",
   "execution_count": 10,
   "id": "a6848013",
   "metadata": {},
   "outputs": [
    {
     "data": {
      "text/plain": [
       "(78.04003601545995, 81.95996398454005)"
      ]
     },
     "execution_count": 10,
     "metadata": {},
     "output_type": "execute_result"
    }
   ],
   "source": [
    "conf_interval = (Xm + t1 * std / (n ** (1 / 2)), Xm + t2 * std / (n ** (1 / 2)))\n",
    "conf_interval   # доверительный интервал"
   ]
  },
  {
   "cell_type": "code",
   "execution_count": 14,
   "id": "7a069964",
   "metadata": {},
   "outputs": [
    {
     "data": {
      "text/plain": [
       "'Ответ: ширина доверительного интервала: 3.91992797'"
      ]
     },
     "execution_count": 14,
     "metadata": {},
     "output_type": "execute_result"
    }
   ],
   "source": [
    "left, right = conf_interval\n",
    "f\"Ответ: ширина доверительного интервала: {round(right - left, 8)}\""
   ]
  },
  {
   "cell_type": "markdown",
   "id": "2f123723",
   "metadata": {},
   "source": [
    "__Задача 2__\n",
    "\n",
    "Продавец утверждает, что средний вес пачки печенья составляет 200 г. Из партии извлечена выборка из 10 пачек. Вес каждой пачки составляет:\n",
    "```\n",
    "202, 203, 199, 197, 195, 201, 200, 204, 194, 190\n",
    "```\n",
    "Известно, что их веса распределены нормально. Верно ли утверждение продавца, если учитывать, что уровень значимости равен 1%? Найдите P-значение для данного теста и укажите его в качестве ответа."
   ]
  },
  {
   "cell_type": "code",
   "execution_count": 23,
   "id": "9d6730bb",
   "metadata": {},
   "outputs": [],
   "source": [
    "import numpy as np"
   ]
  },
  {
   "cell_type": "code",
   "execution_count": 38,
   "id": "41bc52bd",
   "metadata": {},
   "outputs": [],
   "source": [
    "samples = np.array([202, 203, 199, 197, 195, 201, 200, 204, 194, 190])"
   ]
  },
  {
   "cell_type": "code",
   "execution_count": 39,
   "id": "39da77ec",
   "metadata": {},
   "outputs": [],
   "source": [
    "n = 10   #размер выборки"
   ]
  },
  {
   "cell_type": "code",
   "execution_count": 81,
   "id": "19992728",
   "metadata": {},
   "outputs": [],
   "source": [
    "M = 200   #утверждаемое нулевой гипотезой математическое ожидание"
   ]
  },
  {
   "cell_type": "code",
   "execution_count": 54,
   "id": "4a85a34d",
   "metadata": {},
   "outputs": [
    {
     "data": {
      "text/plain": [
       "-1.0651074037450896"
      ]
     },
     "execution_count": 54,
     "metadata": {},
     "output_type": "execute_result"
    }
   ],
   "source": [
    "S = (samples.mean() - M) / (samples.std(ddof=1) / np.sqrt(samples.shape[0]))\n",
    "S   #статистика для оценки мат. ожидания нормального распределения"
   ]
  },
  {
   "cell_type": "code",
   "execution_count": 62,
   "id": "30359597",
   "metadata": {},
   "outputs": [
    {
     "name": "stdout",
     "output_type": "stream",
     "text": [
      "alpha\tresult\n",
      "--------------\n",
      "0.0 \t True\n",
      "0.0208 \t True\n",
      "0.0417 \t True\n",
      "0.0625 \t True\n",
      "0.0833 \t True\n",
      "0.1042 \t True\n",
      "0.125 \t True\n",
      "0.1458 \t True\n",
      "0.1667 \t True\n",
      "0.1875 \t True\n",
      "0.2083 \t True\n",
      "0.2292 \t True\n",
      "0.25 \t True\n",
      "0.2708 \t True\n",
      "0.2917 \t True\n",
      "0.3125 \t True\n",
      "0.3333 \t False\n",
      "0.3542 \t False\n",
      "0.375 \t False\n",
      "0.3958 \t False\n",
      "0.4167 \t False\n",
      "0.4375 \t False\n",
      "0.4583 \t False\n",
      "0.4792 \t False\n",
      "0.5 \t False\n"
     ]
    }
   ],
   "source": [
    "print('alpha\\tresult')\n",
    "print('--------------')\n",
    "\n",
    "for alpha in np.linspace(0, 0.50, 25):\n",
    "    t1 = stats.t.ppf(alpha/2, df = n - 1)\n",
    "    t2 = stats.t.ppf(1 - alpha/2, df = n - 1)\n",
    "    print(round(alpha, 4), '\\t', t1 <= S <= t2)"
   ]
  },
  {
   "cell_type": "code",
   "execution_count": 35,
   "id": "8b070613",
   "metadata": {},
   "outputs": [
    {
     "data": {
      "text/plain": [
       "Ttest_1sampResult(statistic=-1.0651074037450896, pvalue=0.31456660352472854)"
      ]
     },
     "execution_count": 35,
     "metadata": {},
     "output_type": "execute_result"
    }
   ],
   "source": [
    "stats.ttest_1samp(samples, popmean=200)"
   ]
  },
  {
   "cell_type": "code",
   "execution_count": 67,
   "id": "05f03d6e",
   "metadata": {},
   "outputs": [
    {
     "data": {
      "text/plain": [
       "'Ответ: pvalue = 0.3145666'"
      ]
     },
     "execution_count": 67,
     "metadata": {},
     "output_type": "execute_result"
    }
   ],
   "source": [
    "f'Ответ: pvalue = {round(0.31456660352472854, 8)}'"
   ]
  },
  {
   "cell_type": "markdown",
   "id": "f828c966",
   "metadata": {},
   "source": [
    "__Задача 3__\n",
    "\n",
    "Дана выборка диаметров подшипников из примера 1 с занятия 5:\n",
    "```\n",
    "samples = [0.6603, 0.9466, 0.5968, 1.3792, 1.5481, 0.7515, 1.0681, 1.1134,\n",
    "           1.2088, 1.701 , 1.0282, 1.3579, 1.0191, 1.1784, 1.1168, 1.1372,\n",
    "           0.7273, 1.3958, 0.8665, 1.5112, 1.161 , 1.0232, 1.0865, 1.02  ]\n",
    "```\n",
    "Предполагая, что диаметры подшипников распределены нормально, проверьте гипотезу о том, что дисперсия случайной величины равна `0.0625` при уровне значимости `alpha = 0.05`. Что для этого нужно знать:\n",
    "1. Альтернативная гипотеза двухсторонняя.\n",
    "2. Статистика для теста: `H = (n - 1) * sample_variance / variance`, где `n` - число элементов в выборке, `sample_variance` - несмещённая оценка дисперсии, `variance` - утверждаемая нулевой гипотезой дисперсия.\n",
    "3. Эта статистика в предположении верности нулевой гипотезы имеет распределение хи-квадрат с параметром `df = n - 1`. Её квантили можно найти с помощью функции `scipy.stats.chi2.ppf`.\n",
    "\n",
    "В качестве ответа запишите 1, если нулевая гипотеза верна, и 0 иначе."
   ]
  },
  {
   "cell_type": "code",
   "execution_count": 64,
   "id": "02c77116",
   "metadata": {},
   "outputs": [],
   "source": [
    "samples = np.array([0.6603, 0.9466, 0.5968, 1.3792, 1.5481, 0.7515, 1.0681, 1.1134,\n",
    "           1.2088, 1.701 , 1.0282, 1.3579, 1.0191, 1.1784, 1.1168, 1.1372,\n",
    "           0.7273, 1.3958, 0.8665, 1.5112, 1.161 , 1.0232, 1.0865, 1.02 ])"
   ]
  },
  {
   "cell_type": "code",
   "execution_count": 65,
   "id": "c5ea0502",
   "metadata": {},
   "outputs": [],
   "source": [
    "alpha = 0.05"
   ]
  },
  {
   "cell_type": "code",
   "execution_count": 71,
   "id": "d9bb6cb4",
   "metadata": {},
   "outputs": [
    {
     "data": {
      "text/plain": [
       "24"
      ]
     },
     "execution_count": 71,
     "metadata": {},
     "output_type": "execute_result"
    }
   ],
   "source": [
    "n = len(samples)\n",
    "n   #число элементов в выборке"
   ]
  },
  {
   "cell_type": "code",
   "execution_count": 69,
   "id": "d0e5cad8",
   "metadata": {},
   "outputs": [],
   "source": [
    "variance = 0.0625   #утверждаемая нулевой гипотезой дисперсия"
   ]
  },
  {
   "cell_type": "code",
   "execution_count": 68,
   "id": "04992695",
   "metadata": {},
   "outputs": [
    {
     "data": {
      "text/plain": [
       "0.07804495041666669"
      ]
     },
     "execution_count": 68,
     "metadata": {},
     "output_type": "execute_result"
    }
   ],
   "source": [
    "sample_variance = samples.var(ddof=1)\n",
    "sample_variance   #несмещённая оценка дисперсии"
   ]
  },
  {
   "cell_type": "code",
   "execution_count": 76,
   "id": "e1a434d9",
   "metadata": {},
   "outputs": [
    {
     "data": {
      "text/plain": [
       "28.720541753333343"
      ]
     },
     "execution_count": 76,
     "metadata": {},
     "output_type": "execute_result"
    }
   ],
   "source": [
    "H = (n - 1) * sample_variance / variance\n",
    "H   #Статистика для оценки дисперсии"
   ]
  },
  {
   "cell_type": "code",
   "execution_count": 75,
   "id": "f8e85a7c",
   "metadata": {},
   "outputs": [
    {
     "data": {
      "text/plain": [
       "(11.68855192, 38.07562725)"
      ]
     },
     "execution_count": 75,
     "metadata": {},
     "output_type": "execute_result"
    }
   ],
   "source": [
    "t1 = stats.chi2.ppf(alpha/2, df = n - 1)\n",
    "t2 = stats.chi2.ppf(1 - alpha/2, df = n - 1)\n",
    "round(t1, 8), round(t2, 8)"
   ]
  },
  {
   "cell_type": "markdown",
   "id": "e8e63cbf",
   "metadata": {},
   "source": [
    "Критическая область: $$\\Omega_\\alpha = (-\\infty, 11.68855192) \\cup (38.07562725, \\infty)$$"
   ]
  },
  {
   "cell_type": "code",
   "execution_count": 79,
   "id": "59f03e2d",
   "metadata": {},
   "outputs": [
    {
     "data": {
      "text/plain": [
       "True"
      ]
     },
     "execution_count": 79,
     "metadata": {},
     "output_type": "execute_result"
    }
   ],
   "source": [
    "t1 < H < t2"
   ]
  },
  {
   "cell_type": "markdown",
   "id": "150c1044",
   "metadata": {},
   "source": [
    "Статистика не входит в критическую область, значит нулевая гипотеза верна."
   ]
  },
  {
   "cell_type": "markdown",
   "id": "2f2d9b14",
   "metadata": {},
   "source": [
    "__Ответ__: 1"
   ]
  },
  {
   "cell_type": "code",
   "execution_count": null,
   "id": "897691fe",
   "metadata": {},
   "outputs": [],
   "source": []
  }
 ],
 "metadata": {
  "kernelspec": {
   "display_name": "Python 3 (ipykernel)",
   "language": "python",
   "name": "python3"
  },
  "language_info": {
   "codemirror_mode": {
    "name": "ipython",
    "version": 3
   },
   "file_extension": ".py",
   "mimetype": "text/x-python",
   "name": "python",
   "nbconvert_exporter": "python",
   "pygments_lexer": "ipython3",
   "version": "3.9.7"
  }
 },
 "nbformat": 4,
 "nbformat_minor": 5
}
